{
 "cells": [
  {
   "cell_type": "markdown",
   "id": "a8feb337-d151-4a4c-bd61-8be3d83dede5",
   "metadata": {},
   "source": [
    "# Análisis de Ventas"
   ]
  },
  {
   "cell_type": "markdown",
   "id": "7351840a-368d-4a2e-b34d-2a7cd29d8b42",
   "metadata": {},
   "source": [
    "## Desarrollado por Julian Quimbayo"
   ]
  },
  {
   "cell_type": "markdown",
   "id": "9c346ce8-5a7d-4d63-b0d8-6c8aa4658419",
   "metadata": {},
   "source": [
    "### Se desea predecir las ventas futuras apoyados en la siguiente data que se comparte a continuación:"
   ]
  },
  {
   "cell_type": "raw",
   "id": "6eb82961-c2ef-4454-ab1d-58ce2cc42739",
   "metadata": {},
   "source": [
    "Observaciones identificadas:\n",
    "ID - es un id que esta representado en una tupla en el dataframe test\n",
    "shop_id - Identificador de una tienda\n",
    "item_id - Identificador de un producto\n",
    "item_category_id - Identificador de item_categoria\n",
    "date_block_num - Un número consecutivo para cada mes. Para Enero 2013 is 0, Febrero 2013 is 1, así hasta Octubre 2015 es 33\n",
    "date - fecha en formato dd/mm/yyyy\n",
    "item_cnt_day - Número de productos vendidos. Se va a predecir mensualmente con respecto a esta medida.\n",
    "item_price - Precio actual de un producto o item.\n",
    "item_name - nombre del producto o item\n",
    "shop_name - nombre de la tienda\n",
    "item_category_name - Nombre de la categoría del item / producto."
   ]
  },
  {
   "cell_type": "markdown",
   "id": "beaca911-fc80-43f4-b123-47f2bd86f5fe",
   "metadata": {},
   "source": [
    "### PASO 1: Importación de librerías"
   ]
  },
  {
   "cell_type": "code",
   "execution_count": 1,
   "id": "440fef0a-f7eb-4d3d-a310-a0df0d3ec5d5",
   "metadata": {},
   "outputs": [],
   "source": [
    "###Cargue de Librerías Básicas\n",
    "import datetime\n",
    "import warnings\n",
    "import numpy as np\n",
    "import pandas as pd\n",
    "import seaborn as sns\n",
    "import matplotlib.pyplot as plt\n",
    "from sklearn.metrics import mean_squared_error\n",
    "from sklearn.linear_model import LinearRegression\n",
    "from sklearn.neighbors import KNeighborsRegressor\n",
    "from sklearn.ensemble import RandomForestRegressor\n",
    "from sklearn.preprocessing import StandardScaler, MinMaxScaler\n",
    "\n",
    "%matplotlib inline\n",
    "sns.set(style=\"darkgrid\")\n",
    "pd.set_option('display.float_format', lambda x: '%.2f' % x)\n",
    "warnings.filterwarnings(\"ignore\")"
   ]
  },
  {
   "cell_type": "markdown",
   "id": "d7b82733-5bc1-447e-8401-d9fd3cec084b",
   "metadata": {},
   "source": [
    "### PASO 2: Cargue de la data y refinamiento de tipos de datos"
   ]
  },
  {
   "cell_type": "code",
   "execution_count": 2,
   "id": "c81880d2-e866-422d-ae59-0d39fe343268",
   "metadata": {},
   "outputs": [],
   "source": [
    "##Importación de todas las fuentes de datos y reconversión de tipos de datos.\n",
    "test = pd.read_csv('test.csv', dtype={'ID': 'int32', 'shop_id': 'int32', \n",
    "                                                  'item_id': 'int32'})\n",
    "\n",
    "item_categorias = pd.read_csv('item_categories.csv', \n",
    "                              dtype={'item_category_name': 'str', 'item_category_id': 'int32'})\n",
    "\n",
    "items = pd.read_csv('items.csv', dtype={'item_name': 'str', 'item_id': 'int32', \n",
    "                                                 'item_category_id': 'int32'})\n",
    "\n",
    "tiendas = pd.read_csv('shops.csv', dtype={'shop_name': 'str', 'shop_id': 'int32'})\n",
    "\n",
    "ventas = pd.read_csv('sales_train.csv', parse_dates=['date'], \n",
    "                    dtype={'date': 'str', 'date_block_num': 'int32', 'shop_id': 'int32', \n",
    "                          'item_id': 'int32', 'item_price': 'float32', 'item_cnt_day': 'int32'})"
   ]
  },
  {
   "cell_type": "code",
   "execution_count": 3,
   "id": "9d8a100f-a07a-4ca2-ae52-c6c69895cd8a",
   "metadata": {},
   "outputs": [
    {
     "data": {
      "text/html": [
       "<div>\n",
       "<style scoped>\n",
       "    .dataframe tbody tr th:only-of-type {\n",
       "        vertical-align: middle;\n",
       "    }\n",
       "\n",
       "    .dataframe tbody tr th {\n",
       "        vertical-align: top;\n",
       "    }\n",
       "\n",
       "    .dataframe thead th {\n",
       "        text-align: right;\n",
       "    }\n",
       "</style>\n",
       "<table border=\"1\" class=\"dataframe\">\n",
       "  <thead>\n",
       "    <tr style=\"text-align: right;\">\n",
       "      <th></th>\n",
       "      <th>date</th>\n",
       "      <th>date_block_num</th>\n",
       "      <th>shop_id</th>\n",
       "      <th>item_id</th>\n",
       "      <th>item_price</th>\n",
       "      <th>item_cnt_day</th>\n",
       "      <th>item_name</th>\n",
       "      <th>item_category_id</th>\n",
       "      <th>shop_name</th>\n",
       "      <th>item_category_name</th>\n",
       "    </tr>\n",
       "  </thead>\n",
       "  <tbody>\n",
       "    <tr>\n",
       "      <th>0</th>\n",
       "      <td>2013-02-01</td>\n",
       "      <td>0</td>\n",
       "      <td>59</td>\n",
       "      <td>22154</td>\n",
       "      <td>999.00</td>\n",
       "      <td>1</td>\n",
       "      <td>ЯВЛЕНИЕ 2012 (BD)</td>\n",
       "      <td>37</td>\n",
       "      <td>Ярославль ТЦ \"Альтаир\"</td>\n",
       "      <td>Кино - Blu-Ray</td>\n",
       "    </tr>\n",
       "    <tr>\n",
       "      <th>1</th>\n",
       "      <td>2013-03-01</td>\n",
       "      <td>0</td>\n",
       "      <td>25</td>\n",
       "      <td>2552</td>\n",
       "      <td>899.00</td>\n",
       "      <td>1</td>\n",
       "      <td>DEEP PURPLE  The House Of Blue Light  LP</td>\n",
       "      <td>58</td>\n",
       "      <td>Москва ТРК \"Атриум\"</td>\n",
       "      <td>Музыка - Винил</td>\n",
       "    </tr>\n",
       "    <tr>\n",
       "      <th>2</th>\n",
       "      <td>2013-05-01</td>\n",
       "      <td>0</td>\n",
       "      <td>25</td>\n",
       "      <td>2552</td>\n",
       "      <td>899.00</td>\n",
       "      <td>-1</td>\n",
       "      <td>DEEP PURPLE  The House Of Blue Light  LP</td>\n",
       "      <td>58</td>\n",
       "      <td>Москва ТРК \"Атриум\"</td>\n",
       "      <td>Музыка - Винил</td>\n",
       "    </tr>\n",
       "    <tr>\n",
       "      <th>3</th>\n",
       "      <td>2013-06-01</td>\n",
       "      <td>0</td>\n",
       "      <td>25</td>\n",
       "      <td>2554</td>\n",
       "      <td>1709.05</td>\n",
       "      <td>1</td>\n",
       "      <td>DEEP PURPLE  Who Do You Think We Are  LP</td>\n",
       "      <td>58</td>\n",
       "      <td>Москва ТРК \"Атриум\"</td>\n",
       "      <td>Музыка - Винил</td>\n",
       "    </tr>\n",
       "    <tr>\n",
       "      <th>4</th>\n",
       "      <td>2013-01-15</td>\n",
       "      <td>0</td>\n",
       "      <td>25</td>\n",
       "      <td>2555</td>\n",
       "      <td>1099.00</td>\n",
       "      <td>1</td>\n",
       "      <td>DEEP PURPLE 30 Very Best Of 2CD (Фирм.)</td>\n",
       "      <td>56</td>\n",
       "      <td>Москва ТРК \"Атриум\"</td>\n",
       "      <td>Музыка - CD фирменного производства</td>\n",
       "    </tr>\n",
       "  </tbody>\n",
       "</table>\n",
       "</div>"
      ],
      "text/plain": [
       "        date  date_block_num  shop_id  item_id  item_price  item_cnt_day  \\\n",
       "0 2013-02-01               0       59    22154      999.00             1   \n",
       "1 2013-03-01               0       25     2552      899.00             1   \n",
       "2 2013-05-01               0       25     2552      899.00            -1   \n",
       "3 2013-06-01               0       25     2554     1709.05             1   \n",
       "4 2013-01-15               0       25     2555     1099.00             1   \n",
       "\n",
       "                                  item_name  item_category_id  \\\n",
       "0                         ЯВЛЕНИЕ 2012 (BD)                37   \n",
       "1  DEEP PURPLE  The House Of Blue Light  LP                58   \n",
       "2  DEEP PURPLE  The House Of Blue Light  LP                58   \n",
       "3  DEEP PURPLE  Who Do You Think We Are  LP                58   \n",
       "4   DEEP PURPLE 30 Very Best Of 2CD (Фирм.)                56   \n",
       "\n",
       "                shop_name                   item_category_name  \n",
       "0  Ярославль ТЦ \"Альтаир\"                       Кино - Blu-Ray  \n",
       "1     Москва ТРК \"Атриум\"                       Музыка - Винил  \n",
       "2     Москва ТРК \"Атриум\"                       Музыка - Винил  \n",
       "3     Москва ТРК \"Атриум\"                       Музыка - Винил  \n",
       "4     Москва ТРК \"Атриум\"  Музыка - CD фирменного производства  "
      ]
     },
     "execution_count": 3,
     "metadata": {},
     "output_type": "execute_result"
    }
   ],
   "source": [
    "##Join entre ventas que se une con items en item_id, ventas con tiendas que se unen en shop_id y \n",
    "##ventas con item_categorias que se unen en item_category_id\n",
    "train = ventas.join(items, on='item_id', rsuffix='_').join(tiendas, on='shop_id', rsuffix='_').join(item_categorias, on='item_category_id', rsuffix='_').drop(['item_id_', 'shop_id_', 'item_category_id_'], axis=1)\n",
    "\n",
    "train.head()"
   ]
  },
  {
   "cell_type": "markdown",
   "id": "212133a9-36f2-4b2e-87ac-5eab5b5acbad",
   "metadata": {},
   "source": [
    "### PASO 3: Análisis Exploratorio Descriptivo (EDA)"
   ]
  },
  {
   "cell_type": "code",
   "execution_count": 4,
   "id": "66a0f894-59c4-41f1-bb3d-c4489df6b68f",
   "metadata": {},
   "outputs": [
    {
     "name": "stdout",
     "output_type": "stream",
     "text": [
      "Dimensiones : 2935849 filas, 10 columnas\n",
      "Total Valores NA : 0 \n",
      "                        Nombre Columna Tipo de Dato     #Distintos Valores NA\n",
      "                                  date datetime64[ns]         1034          0\n",
      "                        date_block_num      int32           34          0\n",
      "                               shop_id      int32           60          0\n",
      "                               item_id      int32        21807          0\n",
      "                            item_price    float32        19992          0\n",
      "                          item_cnt_day      int32          198          0\n",
      "                             item_name     object        21807          0\n",
      "                      item_category_id      int32           84          0\n",
      "                             shop_name     object           60          0\n",
      "                    item_category_name     object           84          0\n"
     ]
    }
   ],
   "source": [
    "#Análisis exploratorio inicial - se encuentran 2935849 de observaciones por 10 columnas de trabajo sin valores de tipo NAN.\n",
    "def inicio_EDA(df):\n",
    "    if isinstance(df, pd.DataFrame):\n",
    "        total_na = df.isna().sum().sum()\n",
    "        print(\"Dimensiones : %d filas, %d columnas\" % (df.shape[0], df.shape[1]))\n",
    "        print(\"Total Valores NA : %d \" % (total_na))\n",
    "        print(\"%38s %10s     %10s %10s\" % (\"Nombre Columna\", \"Tipo de Dato\", \"#Distintos\", \"Valores NA\"))\n",
    "        col_name = df.columns\n",
    "        dtyp = df.dtypes\n",
    "        uniq = df.nunique()\n",
    "        na_val = df.isna().sum()\n",
    "        for i in range(len(df.columns)):\n",
    "            print(\"%38s %10s   %10s %10s\" % (col_name[i], dtyp[i], uniq[i], na_val[i]))\n",
    "        \n",
    "    else:\n",
    "        print(\"Se esperaba dataframe %15s\" % (type(df)))\n",
    "\n",
    "       \n",
    "inicio_EDA(train)"
   ]
  },
  {
   "cell_type": "code",
   "execution_count": 5,
   "id": "76a5376b-255c-4e0e-bca6-6f36a614bfc8",
   "metadata": {},
   "outputs": [
    {
     "data": {
      "text/html": [
       "<div>\n",
       "<style scoped>\n",
       "    .dataframe tbody tr th:only-of-type {\n",
       "        vertical-align: middle;\n",
       "    }\n",
       "\n",
       "    .dataframe tbody tr th {\n",
       "        vertical-align: top;\n",
       "    }\n",
       "\n",
       "    .dataframe thead th {\n",
       "        text-align: right;\n",
       "    }\n",
       "</style>\n",
       "<table border=\"1\" class=\"dataframe\">\n",
       "  <thead>\n",
       "    <tr style=\"text-align: right;\">\n",
       "      <th></th>\n",
       "      <th>count</th>\n",
       "      <th>mean</th>\n",
       "      <th>std</th>\n",
       "      <th>min</th>\n",
       "      <th>25%</th>\n",
       "      <th>50%</th>\n",
       "      <th>75%</th>\n",
       "      <th>max</th>\n",
       "    </tr>\n",
       "  </thead>\n",
       "  <tbody>\n",
       "    <tr>\n",
       "      <th>date_block_num</th>\n",
       "      <td>2935849.00</td>\n",
       "      <td>14.57</td>\n",
       "      <td>9.42</td>\n",
       "      <td>0.00</td>\n",
       "      <td>7.00</td>\n",
       "      <td>14.00</td>\n",
       "      <td>23.00</td>\n",
       "      <td>33.00</td>\n",
       "    </tr>\n",
       "    <tr>\n",
       "      <th>shop_id</th>\n",
       "      <td>2935849.00</td>\n",
       "      <td>33.00</td>\n",
       "      <td>16.23</td>\n",
       "      <td>0.00</td>\n",
       "      <td>22.00</td>\n",
       "      <td>31.00</td>\n",
       "      <td>47.00</td>\n",
       "      <td>59.00</td>\n",
       "    </tr>\n",
       "    <tr>\n",
       "      <th>item_id</th>\n",
       "      <td>2935849.00</td>\n",
       "      <td>10197.23</td>\n",
       "      <td>6324.30</td>\n",
       "      <td>0.00</td>\n",
       "      <td>4476.00</td>\n",
       "      <td>9343.00</td>\n",
       "      <td>15684.00</td>\n",
       "      <td>22169.00</td>\n",
       "    </tr>\n",
       "    <tr>\n",
       "      <th>item_price</th>\n",
       "      <td>2935849.00</td>\n",
       "      <td>890.85</td>\n",
       "      <td>1729.80</td>\n",
       "      <td>-1.00</td>\n",
       "      <td>249.00</td>\n",
       "      <td>399.00</td>\n",
       "      <td>999.00</td>\n",
       "      <td>307980.00</td>\n",
       "    </tr>\n",
       "    <tr>\n",
       "      <th>item_cnt_day</th>\n",
       "      <td>2935849.00</td>\n",
       "      <td>1.24</td>\n",
       "      <td>2.62</td>\n",
       "      <td>-22.00</td>\n",
       "      <td>1.00</td>\n",
       "      <td>1.00</td>\n",
       "      <td>1.00</td>\n",
       "      <td>2169.00</td>\n",
       "    </tr>\n",
       "    <tr>\n",
       "      <th>item_category_id</th>\n",
       "      <td>2935849.00</td>\n",
       "      <td>40.00</td>\n",
       "      <td>17.10</td>\n",
       "      <td>0.00</td>\n",
       "      <td>28.00</td>\n",
       "      <td>40.00</td>\n",
       "      <td>55.00</td>\n",
       "      <td>83.00</td>\n",
       "    </tr>\n",
       "  </tbody>\n",
       "</table>\n",
       "</div>"
      ],
      "text/plain": [
       "                      count     mean     std    min     25%     50%      75%  \\\n",
       "date_block_num   2935849.00    14.57    9.42   0.00    7.00   14.00    23.00   \n",
       "shop_id          2935849.00    33.00   16.23   0.00   22.00   31.00    47.00   \n",
       "item_id          2935849.00 10197.23 6324.30   0.00 4476.00 9343.00 15684.00   \n",
       "item_price       2935849.00   890.85 1729.80  -1.00  249.00  399.00   999.00   \n",
       "item_cnt_day     2935849.00     1.24    2.62 -22.00    1.00    1.00     1.00   \n",
       "item_category_id 2935849.00    40.00   17.10   0.00   28.00   40.00    55.00   \n",
       "\n",
       "                       max  \n",
       "date_block_num       33.00  \n",
       "shop_id              59.00  \n",
       "item_id           22169.00  \n",
       "item_price       307980.00  \n",
       "item_cnt_day       2169.00  \n",
       "item_category_id     83.00  "
      ]
     },
     "execution_count": 5,
     "metadata": {},
     "output_type": "execute_result"
    }
   ],
   "source": [
    "##Aplicando la estadística inicial de tendencia central vemos que semeja una distribución interesante para revisar\n",
    "##posteriormente en gráficas.\n",
    "train.describe().T"
   ]
  },
  {
   "cell_type": "code",
   "execution_count": 6,
   "id": "bf56e9fb-104b-4fd2-bdaf-2b83cf3ea282",
   "metadata": {},
   "outputs": [
    {
     "name": "stdout",
     "output_type": "stream",
     "text": [
      "Fecha mínima para el set de entrenamiento: 2013-01-01\n",
      "Fecha Máxima para el set de entrenamiento: 2015-12-10\n"
     ]
    }
   ],
   "source": [
    "###Periodo de las mediciones\n",
    "print('Fecha mínima para el set de entrenamiento: %s' % train['date'].min().date())\n",
    "print('Fecha Máxima para el set de entrenamiento: %s' % train['date'].max().date())"
   ]
  },
  {
   "cell_type": "code",
   "execution_count": 7,
   "id": "bb0e66bc-4abf-4828-a48f-330b86e599d4",
   "metadata": {},
   "outputs": [],
   "source": [
    "##Reducción de dimensionalidad cruzando los datos con los existentes en test\n",
    "##Por medio de Shop_id e item_id\n",
    "test_shop_ids = test['shop_id'].unique()\n",
    "test_item_ids = test['item_id'].unique()\n",
    "\n",
    "new_train = train[train['shop_id'].isin(test_shop_ids)]\n",
    "\n",
    "new_train = new_train[new_train['item_id'].isin(test_item_ids)]"
   ]
  },
  {
   "cell_type": "code",
   "execution_count": 8,
   "id": "e98cb760-5520-4496-b857-c8c410e0b011",
   "metadata": {},
   "outputs": [
    {
     "name": "stdout",
     "output_type": "stream",
     "text": [
      "Tamaño Inicial de Dataframe: 2935849\n",
      "Tamaño Final de Dataframe: 1224439\n"
     ]
    }
   ],
   "source": [
    "##Comparativa antes y después de la reducción de dimensiones por medio de Id's\n",
    "print('Tamaño Inicial de Dataframe:', train.shape[0])\n",
    "print('Tamaño Final de Dataframe:', new_train.shape[0])"
   ]
  },
  {
   "cell_type": "code",
   "execution_count": 9,
   "id": "461e5ea0-457e-4f43-88f1-b6b9b32789e6",
   "metadata": {},
   "outputs": [
    {
     "data": {
      "text/html": [
       "<div>\n",
       "<style scoped>\n",
       "    .dataframe tbody tr th:only-of-type {\n",
       "        vertical-align: middle;\n",
       "    }\n",
       "\n",
       "    .dataframe tbody tr th {\n",
       "        vertical-align: top;\n",
       "    }\n",
       "\n",
       "    .dataframe thead th {\n",
       "        text-align: right;\n",
       "    }\n",
       "</style>\n",
       "<table border=\"1\" class=\"dataframe\">\n",
       "  <thead>\n",
       "    <tr style=\"text-align: right;\">\n",
       "      <th></th>\n",
       "      <th>date</th>\n",
       "      <th>date_block_num</th>\n",
       "      <th>shop_id</th>\n",
       "      <th>item_id</th>\n",
       "      <th>item_price</th>\n",
       "      <th>item_cnt_day</th>\n",
       "      <th>item_name</th>\n",
       "      <th>item_category_id</th>\n",
       "      <th>shop_name</th>\n",
       "      <th>item_category_name</th>\n",
       "    </tr>\n",
       "  </thead>\n",
       "  <tbody>\n",
       "    <tr>\n",
       "      <th>0</th>\n",
       "      <td>2013-02-01</td>\n",
       "      <td>0</td>\n",
       "      <td>59</td>\n",
       "      <td>22154</td>\n",
       "      <td>999.00</td>\n",
       "      <td>1</td>\n",
       "      <td>ЯВЛЕНИЕ 2012 (BD)</td>\n",
       "      <td>37</td>\n",
       "      <td>Ярославль ТЦ \"Альтаир\"</td>\n",
       "      <td>Кино - Blu-Ray</td>\n",
       "    </tr>\n",
       "    <tr>\n",
       "      <th>1</th>\n",
       "      <td>2013-03-01</td>\n",
       "      <td>0</td>\n",
       "      <td>25</td>\n",
       "      <td>2552</td>\n",
       "      <td>899.00</td>\n",
       "      <td>1</td>\n",
       "      <td>DEEP PURPLE  The House Of Blue Light  LP</td>\n",
       "      <td>58</td>\n",
       "      <td>Москва ТРК \"Атриум\"</td>\n",
       "      <td>Музыка - Винил</td>\n",
       "    </tr>\n",
       "    <tr>\n",
       "      <th>2</th>\n",
       "      <td>2013-05-01</td>\n",
       "      <td>0</td>\n",
       "      <td>25</td>\n",
       "      <td>2552</td>\n",
       "      <td>899.00</td>\n",
       "      <td>-1</td>\n",
       "      <td>DEEP PURPLE  The House Of Blue Light  LP</td>\n",
       "      <td>58</td>\n",
       "      <td>Москва ТРК \"Атриум\"</td>\n",
       "      <td>Музыка - Винил</td>\n",
       "    </tr>\n",
       "    <tr>\n",
       "      <th>3</th>\n",
       "      <td>2013-06-01</td>\n",
       "      <td>0</td>\n",
       "      <td>25</td>\n",
       "      <td>2554</td>\n",
       "      <td>1709.05</td>\n",
       "      <td>1</td>\n",
       "      <td>DEEP PURPLE  Who Do You Think We Are  LP</td>\n",
       "      <td>58</td>\n",
       "      <td>Москва ТРК \"Атриум\"</td>\n",
       "      <td>Музыка - Винил</td>\n",
       "    </tr>\n",
       "    <tr>\n",
       "      <th>4</th>\n",
       "      <td>2013-01-15</td>\n",
       "      <td>0</td>\n",
       "      <td>25</td>\n",
       "      <td>2555</td>\n",
       "      <td>1099.00</td>\n",
       "      <td>1</td>\n",
       "      <td>DEEP PURPLE 30 Very Best Of 2CD (Фирм.)</td>\n",
       "      <td>56</td>\n",
       "      <td>Москва ТРК \"Атриум\"</td>\n",
       "      <td>Музыка - CD фирменного производства</td>\n",
       "    </tr>\n",
       "  </tbody>\n",
       "</table>\n",
       "</div>"
      ],
      "text/plain": [
       "        date  date_block_num  shop_id  item_id  item_price  item_cnt_day  \\\n",
       "0 2013-02-01               0       59    22154      999.00             1   \n",
       "1 2013-03-01               0       25     2552      899.00             1   \n",
       "2 2013-05-01               0       25     2552      899.00            -1   \n",
       "3 2013-06-01               0       25     2554     1709.05             1   \n",
       "4 2013-01-15               0       25     2555     1099.00             1   \n",
       "\n",
       "                                  item_name  item_category_id  \\\n",
       "0                         ЯВЛЕНИЕ 2012 (BD)                37   \n",
       "1  DEEP PURPLE  The House Of Blue Light  LP                58   \n",
       "2  DEEP PURPLE  The House Of Blue Light  LP                58   \n",
       "3  DEEP PURPLE  Who Do You Think We Are  LP                58   \n",
       "4   DEEP PURPLE 30 Very Best Of 2CD (Фирм.)                56   \n",
       "\n",
       "                shop_name                   item_category_name  \n",
       "0  Ярославль ТЦ \"Альтаир\"                       Кино - Blu-Ray  \n",
       "1     Москва ТРК \"Атриум\"                       Музыка - Винил  \n",
       "2     Москва ТРК \"Атриум\"                       Музыка - Винил  \n",
       "3     Москва ТРК \"Атриум\"                       Музыка - Винил  \n",
       "4     Москва ТРК \"Атриум\"  Музыка - CD фирменного производства  "
      ]
     },
     "execution_count": 9,
     "metadata": {},
     "output_type": "execute_result"
    }
   ],
   "source": [
    "##Se modificará solo los items mayores a cero\n",
    "train = train.query('item_price > 0')\n",
    "\n",
    "train.head()"
   ]
  },
  {
   "cell_type": "code",
   "execution_count": 10,
   "id": "5b8eb3e4-511e-4a44-89f6-f93f3b01a807",
   "metadata": {},
   "outputs": [],
   "source": [
    "##Se determinan las variables más importantes para trabajar\n",
    "train_mensual = new_train[['date', 'date_block_num', \n",
    "                           'shop_id', 'item_category_id', 'item_id', 'item_price', 'item_cnt_day']]"
   ]
  },
  {
   "cell_type": "code",
   "execution_count": 11,
   "id": "1359bc60-4180-4505-b3ea-f340ce890a5a",
   "metadata": {},
   "outputs": [],
   "source": [
    "##Se agrupa por mes, en este caso date_block_num y se agregan las demás características\n",
    "train_mensual = train_mensual.sort_values('date').groupby(['date_block_num', 'shop_id', 'item_category_id', 'item_id'], as_index=False)\n",
    "\n",
    "train_mensual = train_mensual.agg({'item_price':['sum', 'mean'], 'item_cnt_day':['sum', 'mean','count']})\n",
    "\n",
    "train_mensual.columns = ['date_block_num', 'shop_id', 'item_category_id', 'item_id', 'item_price', 'mean_item_price', 'item_cnt', 'mean_item_cnt', 'transactions']"
   ]
  },
  {
   "cell_type": "code",
   "execution_count": 12,
   "id": "72b0621b-6d28-4115-8a05-8f32d9603998",
   "metadata": {},
   "outputs": [],
   "source": [
    "##Se procede a crear un dataframe con todas las combinaciones posibles\n",
    "##Utilizando el shop_id, item_id para posteriormente fusionar con el dataframe train_mensual\n",
    "shop_ids = train_mensual['shop_id'].unique()\n",
    "item_ids = train_mensual['item_id'].unique()\n",
    "empty_df = []\n",
    "for i in range(34):\n",
    "    for shop in shop_ids:\n",
    "        for item in item_ids:\n",
    "            empty_df.append([i, shop, item])\n",
    "    \n",
    "data_complementario = pd.DataFrame(empty_df, columns=['date_block_num','shop_id','item_id'])"
   ]
  },
  {
   "cell_type": "code",
   "execution_count": 13,
   "id": "f2051a67-5299-42bc-a420-cddd8339eb5a",
   "metadata": {},
   "outputs": [],
   "source": [
    "##Se unen los dos dataframes para complementar la información inicial\n",
    "train_mensual = pd.merge(data_complementario, train_mensual, on=['date_block_num','shop_id','item_id'], how='left')\n",
    "train_mensual.fillna(0, inplace=True)"
   ]
  },
  {
   "cell_type": "code",
   "execution_count": 14,
   "id": "0be1e887-71ba-4cdc-9f33-f42d2eaea28f",
   "metadata": {},
   "outputs": [
    {
     "name": "stdout",
     "output_type": "stream",
     "text": [
      "Dimensiones : 6734448 filas, 9 columnas\n",
      "Total Valores NA : 0 \n",
      "                        Nombre Columna Tipo de Dato     #Distintos Valores NA\n",
      "                        date_block_num      int64           34          0\n",
      "                               shop_id      int64           42          0\n",
      "                               item_id      int64         4716          0\n",
      "                      item_category_id    float64           61          0\n",
      "                            item_price    float32        26489          0\n",
      "                       mean_item_price    float32        22785          0\n",
      "                              item_cnt    float64          387          0\n",
      "                         mean_item_cnt    float64         1435          0\n",
      "                          transactions    float64           32          0\n"
     ]
    }
   ],
   "source": [
    "###Se realiza una nueva revisión\n",
    "inicio_EDA(train_mensual)"
   ]
  },
  {
   "cell_type": "code",
   "execution_count": 15,
   "id": "50ed1d42-84d2-447f-b01a-be2032695e83",
   "metadata": {},
   "outputs": [
    {
     "data": {
      "text/html": [
       "<div>\n",
       "<style scoped>\n",
       "    .dataframe tbody tr th:only-of-type {\n",
       "        vertical-align: middle;\n",
       "    }\n",
       "\n",
       "    .dataframe tbody tr th {\n",
       "        vertical-align: top;\n",
       "    }\n",
       "\n",
       "    .dataframe thead th {\n",
       "        text-align: right;\n",
       "    }\n",
       "</style>\n",
       "<table border=\"1\" class=\"dataframe\">\n",
       "  <thead>\n",
       "    <tr style=\"text-align: right;\">\n",
       "      <th></th>\n",
       "      <th>count</th>\n",
       "      <th>mean</th>\n",
       "      <th>std</th>\n",
       "      <th>min</th>\n",
       "      <th>25%</th>\n",
       "      <th>50%</th>\n",
       "      <th>75%</th>\n",
       "      <th>max</th>\n",
       "    </tr>\n",
       "  </thead>\n",
       "  <tbody>\n",
       "    <tr>\n",
       "      <th>date_block_num</th>\n",
       "      <td>6734448.00</td>\n",
       "      <td>16.50</td>\n",
       "      <td>9.81</td>\n",
       "      <td>0.00</td>\n",
       "      <td>8.00</td>\n",
       "      <td>16.50</td>\n",
       "      <td>25.00</td>\n",
       "      <td>33.00</td>\n",
       "    </tr>\n",
       "    <tr>\n",
       "      <th>shop_id</th>\n",
       "      <td>6734448.00</td>\n",
       "      <td>31.64</td>\n",
       "      <td>17.56</td>\n",
       "      <td>2.00</td>\n",
       "      <td>16.00</td>\n",
       "      <td>34.50</td>\n",
       "      <td>47.00</td>\n",
       "      <td>59.00</td>\n",
       "    </tr>\n",
       "    <tr>\n",
       "      <th>item_id</th>\n",
       "      <td>6734448.00</td>\n",
       "      <td>11041.89</td>\n",
       "      <td>6210.74</td>\n",
       "      <td>30.00</td>\n",
       "      <td>5385.25</td>\n",
       "      <td>11265.50</td>\n",
       "      <td>16068.25</td>\n",
       "      <td>22167.00</td>\n",
       "    </tr>\n",
       "    <tr>\n",
       "      <th>item_category_id</th>\n",
       "      <td>6734448.00</td>\n",
       "      <td>3.79</td>\n",
       "      <td>13.21</td>\n",
       "      <td>0.00</td>\n",
       "      <td>0.00</td>\n",
       "      <td>0.00</td>\n",
       "      <td>0.00</td>\n",
       "      <td>83.00</td>\n",
       "    </tr>\n",
       "    <tr>\n",
       "      <th>item_price</th>\n",
       "      <td>6734448.00</td>\n",
       "      <td>187.39</td>\n",
       "      <td>2177.44</td>\n",
       "      <td>0.00</td>\n",
       "      <td>0.00</td>\n",
       "      <td>0.00</td>\n",
       "      <td>0.00</td>\n",
       "      <td>515573.59</td>\n",
       "    </tr>\n",
       "    <tr>\n",
       "      <th>mean_item_price</th>\n",
       "      <td>6734448.00</td>\n",
       "      <td>81.23</td>\n",
       "      <td>534.73</td>\n",
       "      <td>0.00</td>\n",
       "      <td>0.00</td>\n",
       "      <td>0.00</td>\n",
       "      <td>0.00</td>\n",
       "      <td>42990.00</td>\n",
       "    </tr>\n",
       "    <tr>\n",
       "      <th>item_cnt</th>\n",
       "      <td>6734448.00</td>\n",
       "      <td>0.24</td>\n",
       "      <td>3.46</td>\n",
       "      <td>-4.00</td>\n",
       "      <td>0.00</td>\n",
       "      <td>0.00</td>\n",
       "      <td>0.00</td>\n",
       "      <td>2253.00</td>\n",
       "    </tr>\n",
       "    <tr>\n",
       "      <th>mean_item_cnt</th>\n",
       "      <td>6734448.00</td>\n",
       "      <td>0.10</td>\n",
       "      <td>0.61</td>\n",
       "      <td>-2.00</td>\n",
       "      <td>0.00</td>\n",
       "      <td>0.00</td>\n",
       "      <td>0.00</td>\n",
       "      <td>1000.00</td>\n",
       "    </tr>\n",
       "    <tr>\n",
       "      <th>transactions</th>\n",
       "      <td>6734448.00</td>\n",
       "      <td>0.18</td>\n",
       "      <td>0.90</td>\n",
       "      <td>0.00</td>\n",
       "      <td>0.00</td>\n",
       "      <td>0.00</td>\n",
       "      <td>0.00</td>\n",
       "      <td>31.00</td>\n",
       "    </tr>\n",
       "  </tbody>\n",
       "</table>\n",
       "</div>"
      ],
      "text/plain": [
       "                      count     mean     std   min     25%      50%      75%  \\\n",
       "date_block_num   6734448.00    16.50    9.81  0.00    8.00    16.50    25.00   \n",
       "shop_id          6734448.00    31.64   17.56  2.00   16.00    34.50    47.00   \n",
       "item_id          6734448.00 11041.89 6210.74 30.00 5385.25 11265.50 16068.25   \n",
       "item_category_id 6734448.00     3.79   13.21  0.00    0.00     0.00     0.00   \n",
       "item_price       6734448.00   187.39 2177.44  0.00    0.00     0.00     0.00   \n",
       "mean_item_price  6734448.00    81.23  534.73  0.00    0.00     0.00     0.00   \n",
       "item_cnt         6734448.00     0.24    3.46 -4.00    0.00     0.00     0.00   \n",
       "mean_item_cnt    6734448.00     0.10    0.61 -2.00    0.00     0.00     0.00   \n",
       "transactions     6734448.00     0.18    0.90  0.00    0.00     0.00     0.00   \n",
       "\n",
       "                       max  \n",
       "date_block_num       33.00  \n",
       "shop_id              59.00  \n",
       "item_id           22167.00  \n",
       "item_category_id     83.00  \n",
       "item_price       515573.59  \n",
       "mean_item_price   42990.00  \n",
       "item_cnt           2253.00  \n",
       "mean_item_cnt      1000.00  \n",
       "transactions         31.00  "
      ]
     },
     "execution_count": 15,
     "metadata": {},
     "output_type": "execute_result"
    }
   ],
   "source": [
    "train_mensual.describe().T"
   ]
  },
  {
   "cell_type": "code",
   "execution_count": 16,
   "id": "ac72ac94-5a04-4b3e-9c7b-87e9a3eabd62",
   "metadata": {},
   "outputs": [],
   "source": [
    "##Se procede a extraer el año y mes del dataframe\n",
    "train_mensual['year'] = train_mensual['date_block_num'].apply(lambda x: ((x//12) + 2013))\n",
    "train_mensual['month'] = train_mensual['date_block_num'].apply(lambda x: (x % 12))"
   ]
  },
  {
   "cell_type": "markdown",
   "id": "be277541-edaa-498c-ac13-82f1e07f1bd3",
   "metadata": {},
   "source": [
    "### PASO 4: Gráficas Relevantes"
   ]
  },
  {
   "cell_type": "code",
   "execution_count": 17,
   "id": "6e1aa271-defd-410e-87e1-bcad6bffff62",
   "metadata": {},
   "outputs": [],
   "source": [
    "gp_mes_mean = train_mensual.groupby(['month'], as_index=False)['item_cnt'].mean()\n",
    "gp_mes_sum = train_mensual.groupby(['month'], as_index=False)['item_cnt'].sum()\n",
    "gp_categoria_mean = train_mensual.groupby(['item_category_id'], as_index=False)['item_cnt'].mean()\n",
    "gp_categoria_sum = train_mensual.groupby(['item_category_id'], as_index=False)['item_cnt'].sum()\n",
    "gp_tienda_mean = train_mensual.groupby(['shop_id'], as_index=False)['item_cnt'].mean()\n",
    "gp_tienda_sum = train_mensual.groupby(['shop_id'], as_index=False)['item_cnt'].sum()"
   ]
  },
  {
   "cell_type": "code",
   "execution_count": 18,
   "id": "df24e672-0e6e-4572-a3d9-76c0aeb44f09",
   "metadata": {},
   "outputs": [
    {
     "data": {
      "image/png": "[encoded data removed]",
      "text/plain": [
       "<Figure size 1584x720 with 2 Axes>"
      ]
     },
     "metadata": {},
     "output_type": "display_data"
    }
   ],
   "source": [
    "f, axes = plt.subplots(2, 1, figsize=(22, 10), sharex=True)\n",
    "sns.lineplot(x=\"month\", y=\"item_cnt\", data=gp_mes_mean, ax=axes[0]).set_title(\"Media Mensual\")\n",
    "sns.lineplot(x=\"month\", y=\"item_cnt\", data=gp_mes_sum, ax=axes[1]).set_title(\"Total Mensual\")\n",
    "plt.show()\n",
    "\n",
    "#Al final del periodo seleccionado se aumentan las ventas por encima de la media."
   ]
  },
  {
   "cell_type": "code",
   "execution_count": 19,
   "id": "547d2bc0-22f4-4abc-a586-85e6e8716ae1",
   "metadata": {},
   "outputs": [
    {
     "data": {
      "image/png": "[encoded data removed]",
      "text/plain": [
       "<Figure size 1584x720 with 2 Axes>"
      ]
     },
     "metadata": {},
     "output_type": "display_data"
    }
   ],
   "source": [
    "f, axes = plt.subplots(2, 1, figsize=(22, 10), sharex=True)\n",
    "sns.barplot(x=\"item_category_id\", y=\"item_cnt\", data=gp_categoria_mean, ax=axes[0], palette=\"rocket\").set_title(\"Media Mensual\")\n",
    "sns.barplot(x=\"item_category_id\", y=\"item_cnt\", data=gp_categoria_sum, ax=axes[1], palette=\"rocket\").set_title(\"Total Mensual\")\n",
    "plt.show()\n",
    "##Aparentemente solo algunas categorías presentan ventas superiores."
   ]
  },
  {
   "cell_type": "code",
   "execution_count": 20,
   "id": "9a6c0e88-d4fa-4b78-a4f1-5bab57848f69",
   "metadata": {},
   "outputs": [
    {
     "data": {
      "image/png": "[encoded data removed]",
      "text/plain": [
       "<Figure size 1584x720 with 2 Axes>"
      ]
     },
     "metadata": {},
     "output_type": "display_data"
    }
   ],
   "source": [
    "f, axes = plt.subplots(2, 1, figsize=(22, 10), sharex=True)\n",
    "sns.barplot(x=\"shop_id\", y=\"item_cnt\", data=gp_tienda_mean, ax=axes[0], palette=\"rocket\").set_title(\"Monthly mean\")\n",
    "sns.barplot(x=\"shop_id\", y=\"item_cnt\", data=gp_tienda_sum, ax=axes[1], palette=\"rocket\").set_title(\"Monthly sum\")\n",
    "plt.show()\n",
    "##Se evidencian alrededor de 3 tiendas que superan la cantidad vendida durante el periodo 2013 al 2015."
   ]
  },
  {
   "cell_type": "code",
   "execution_count": 21,
   "id": "9e5bc45b-e7dc-4baa-96b9-f5b0fdbc1af2",
   "metadata": {},
   "outputs": [
    {
     "data": {
      "image/png": "[encoded data removed]",
      "text/plain": [
       "<Figure size 576x576 with 3 Axes>"
      ]
     },
     "metadata": {},
     "output_type": "display_data"
    }
   ],
   "source": [
    "##Verificando Outliers\n",
    "sns.jointplot(x=\"item_cnt\", y=\"item_price\", data=train_mensual, height=8)\n",
    "plt.show()"
   ]
  },
  {
   "cell_type": "code",
   "execution_count": 22,
   "id": "24a6bcf7-f487-4eb4-a37c-846768675282",
   "metadata": {},
   "outputs": [
    {
     "data": {
      "image/png": "[encoded data removed]",
      "text/plain": [
       "<Figure size 1584x576 with 1 Axes>"
      ]
     },
     "metadata": {},
     "output_type": "display_data"
    }
   ],
   "source": [
    "plt.subplots(figsize=(22, 8))\n",
    "sns.boxplot(train_mensual['item_cnt'])\n",
    "plt.show()\n",
    "\n",
    "##Tomando el límite anterior, se procede a reducir la data por medio \n",
    "## de una relación item_cnt>=0 & item_cnt <=20 & item_price < 400000 remueve outliers si cumple"
   ]
  },
  {
   "cell_type": "code",
   "execution_count": 23,
   "id": "3d7f10f7-ba50-448b-9745-557d411bfd2e",
   "metadata": {},
   "outputs": [],
   "source": [
    "train_mensual = train_mensual.query('item_cnt >= 0 and item_cnt <= 20 and item_price < 400000')"
   ]
  },
  {
   "cell_type": "code",
   "execution_count": 24,
   "id": "30157cf2-9c04-47bc-9ea0-c9b0e62a8eba",
   "metadata": {},
   "outputs": [
    {
     "data": {
      "image/png": "[encoded data removed]",
      "text/plain": [
       "<Figure size 1584x576 with 1 Axes>"
      ]
     },
     "metadata": {},
     "output_type": "display_data"
    }
   ],
   "source": [
    "plt.subplots(figsize=(22, 8))\n",
    "sns.boxplot(train_mensual['item_cnt'])\n",
    "plt.show()\n",
    "\n",
    "##Se evidencia la reducción de ruido en los datos."
   ]
  },
  {
   "cell_type": "markdown",
   "id": "5b14a98d-0a49-4217-991f-438d550e4fe5",
   "metadata": {},
   "source": [
    "### PASO 5: Ingeniería de Variables"
   ]
  },
  {
   "cell_type": "code",
   "execution_count": 25,
   "id": "00d3ec78-3630-4bc1-8834-c9808974444c",
   "metadata": {},
   "outputs": [],
   "source": [
    "##Paso 5.1 Crear la etiqueta donde se va a guardar el conteo mes a mes\n",
    "train_mensual['item_cnt_month'] = train_mensual.sort_values('date_block_num').groupby(['shop_id', 'item_id'])['item_cnt'].shift(-1)\n",
    "\n",
    "## Paso 5.2 Unidad de precio por cada elemento (Valor unitario) es la división entre precio del item y el conteo del mismo\n",
    "train_mensual['item_price_unit'] = train_mensual['item_price'] // train_mensual['item_cnt']\n",
    "##Si hay datos NAN se rellena con cero.\n",
    "train_mensual['item_price_unit'].fillna(0, inplace=True)\n",
    "\n",
    "## Paso 5.3 Agrupaciones por fecha y el id respetando los valores minimos y maximos del precio es decir en un rango\n",
    "gp_item_precio = train_mensual.sort_values('date_block_num').groupby(['item_id'], as_index=False).agg({'item_price':[np.min, np.max]})\n",
    "\n",
    "## Paso 5.4 Damos nombres a las columnas\n",
    "gp_item_precio.columns = ['item_id', 'hist_min_item_price', 'hist_max_item_price']\n",
    "\n",
    "## Paso 5.5 Unimos al data frame original con un merge por item_id usando un leftjoin es decir\n",
    "##todo va para train_mensual\n",
    "train_mensual = pd.merge(train_mensual, gp_item_precio, on='item_id', how='left')\n",
    "\n",
    "##Paso 5.6 el incremento del precio se da por el historial del movimiento del precio menos el valor actual.\n",
    "train_mensual['price_increase'] = train_mensual['item_price'] - train_mensual['hist_min_item_price']\n",
    "train_mensual['price_decrease'] = train_mensual['hist_max_item_price'] - train_mensual['item_price']\n",
    "\n",
    "##Paso 5.7 por medio de funciones lambda se crea la ventana de observacion de tres periodos\n",
    "f_min = lambda x: x.rolling(window=3, min_periods=1).min()\n",
    "f_max = lambda x: x.rolling(window=3, min_periods=1).max()\n",
    "f_mean = lambda x: x.rolling(window=3, min_periods=1).mean()\n",
    "f_std = lambda x: x.rolling(window=3, min_periods=1).std()\n",
    "\n",
    "function_list = [f_min, f_max, f_mean, f_std]\n",
    "function_name = ['min', 'max', 'mean', 'std']\n",
    "\n"
   ]
  },
  {
   "cell_type": "code",
   "execution_count": 26,
   "id": "38eca1cf-8fa3-4244-abba-bda7a59c8b51",
   "metadata": {},
   "outputs": [
    {
     "name": "stdout",
     "output_type": "stream",
     "text": [
      "<class 'pandas.core.frame.DataFrame'>\n",
      "Int64Index: 6728118 entries, 0 to 6728117\n",
      "Data columns (total 17 columns):\n",
      " #   Column               Dtype  \n",
      "---  ------               -----  \n",
      " 0   date_block_num       int64  \n",
      " 1   shop_id              int64  \n",
      " 2   item_id              int64  \n",
      " 3   item_category_id     float64\n",
      " 4   item_price           float32\n",
      " 5   mean_item_price      float32\n",
      " 6   item_cnt             float64\n",
      " 7   mean_item_cnt        float64\n",
      " 8   transactions         float64\n",
      " 9   year                 int64  \n",
      " 10  month                int64  \n",
      " 11  item_cnt_month       float64\n",
      " 12  item_price_unit      float64\n",
      " 13  hist_min_item_price  float32\n",
      " 14  hist_max_item_price  float32\n",
      " 15  price_increase       float32\n",
      " 16  price_decrease       float32\n",
      "dtypes: float32(6), float64(6), int64(5)\n",
      "memory usage: 770.0 MB\n"
     ]
    }
   ],
   "source": [
    "train_mensual.info()"
   ]
  },
  {
   "cell_type": "code",
   "execution_count": 27,
   "id": "276e589f-28b6-4467-a8ce-a2534951f40b",
   "metadata": {},
   "outputs": [
    {
     "ename": "KeyboardInterrupt",
     "evalue": "",
     "output_type": "error",
     "traceback": [
      "\u001b[1;31m---------------------------------------------------------------------------\u001b[0m",
      "\u001b[1;31mKeyboardInterrupt\u001b[0m                         Traceback (most recent call last)",
      "\u001b[1;32m~\\AppData\\Local\\Temp/ipykernel_14668/709401560.py\u001b[0m in \u001b[0;36m<module>\u001b[1;34m\u001b[0m\n\u001b[0;32m      1\u001b[0m \u001b[1;32mfor\u001b[0m \u001b[0mi\u001b[0m \u001b[1;32min\u001b[0m \u001b[0mrange\u001b[0m\u001b[1;33m(\u001b[0m\u001b[0mlen\u001b[0m\u001b[1;33m(\u001b[0m\u001b[0mfunction_list\u001b[0m\u001b[1;33m)\u001b[0m\u001b[1;33m)\u001b[0m\u001b[1;33m:\u001b[0m\u001b[1;33m\u001b[0m\u001b[1;33m\u001b[0m\u001b[0m\n\u001b[1;32m----> 2\u001b[1;33m     \u001b[0mtrain_mensual\u001b[0m\u001b[1;33m[\u001b[0m\u001b[1;33m(\u001b[0m\u001b[1;34m'item_cnt_%s'\u001b[0m \u001b[1;33m%\u001b[0m \u001b[0mfunction_name\u001b[0m\u001b[1;33m[\u001b[0m\u001b[0mi\u001b[0m\u001b[1;33m]\u001b[0m\u001b[1;33m)\u001b[0m\u001b[1;33m]\u001b[0m \u001b[1;33m=\u001b[0m \u001b[0mtrain_mensual\u001b[0m\u001b[1;33m.\u001b[0m\u001b[0msort_values\u001b[0m\u001b[1;33m(\u001b[0m\u001b[1;34m'date_block_num'\u001b[0m\u001b[1;33m)\u001b[0m\u001b[1;33m.\u001b[0m\u001b[0mgroupby\u001b[0m\u001b[1;33m(\u001b[0m\u001b[1;33m[\u001b[0m\u001b[1;34m'shop_id'\u001b[0m\u001b[1;33m,\u001b[0m \u001b[1;34m'item_category_id'\u001b[0m\u001b[1;33m,\u001b[0m \u001b[1;34m'item_id'\u001b[0m\u001b[1;33m]\u001b[0m\u001b[1;33m)\u001b[0m\u001b[1;33m[\u001b[0m\u001b[1;34m'item_cnt'\u001b[0m\u001b[1;33m]\u001b[0m\u001b[1;33m.\u001b[0m\u001b[0mapply\u001b[0m\u001b[1;33m(\u001b[0m\u001b[0mfunction_list\u001b[0m\u001b[1;33m[\u001b[0m\u001b[0mi\u001b[0m\u001b[1;33m]\u001b[0m\u001b[1;33m)\u001b[0m\u001b[1;33m\u001b[0m\u001b[1;33m\u001b[0m\u001b[0m\n\u001b[0m\u001b[0;32m      3\u001b[0m \u001b[1;33m\u001b[0m\u001b[0m\n\u001b[0;32m      4\u001b[0m \u001b[0mtrain_mensual\u001b[0m\u001b[1;33m[\u001b[0m\u001b[1;34m'item_cnt_std'\u001b[0m\u001b[1;33m]\u001b[0m\u001b[1;33m.\u001b[0m\u001b[0mfillna\u001b[0m\u001b[1;33m(\u001b[0m\u001b[1;36m0\u001b[0m\u001b[1;33m,\u001b[0m \u001b[0minplace\u001b[0m\u001b[1;33m=\u001b[0m\u001b[1;32mTrue\u001b[0m\u001b[1;33m)\u001b[0m\u001b[1;33m\u001b[0m\u001b[1;33m\u001b[0m\u001b[0m\n\u001b[0;32m      5\u001b[0m \u001b[1;33m\u001b[0m\u001b[0m\n",
      "\u001b[1;32m~\\AppData\\Local\\Programs\\Python\\Python39\\lib\\site-packages\\pandas\\core\\groupby\\generic.py\u001b[0m in \u001b[0;36mapply\u001b[1;34m(self, func, *args, **kwargs)\u001b[0m\n\u001b[0;32m    221\u001b[0m     )\n\u001b[0;32m    222\u001b[0m     \u001b[1;32mdef\u001b[0m \u001b[0mapply\u001b[0m\u001b[1;33m(\u001b[0m\u001b[0mself\u001b[0m\u001b[1;33m,\u001b[0m \u001b[0mfunc\u001b[0m\u001b[1;33m,\u001b[0m \u001b[1;33m*\u001b[0m\u001b[0margs\u001b[0m\u001b[1;33m,\u001b[0m \u001b[1;33m**\u001b[0m\u001b[0mkwargs\u001b[0m\u001b[1;33m)\u001b[0m\u001b[1;33m:\u001b[0m\u001b[1;33m\u001b[0m\u001b[1;33m\u001b[0m\u001b[0m\n\u001b[1;32m--> 223\u001b[1;33m         \u001b[1;32mreturn\u001b[0m \u001b[0msuper\u001b[0m\u001b[1;33m(\u001b[0m\u001b[1;33m)\u001b[0m\u001b[1;33m.\u001b[0m\u001b[0mapply\u001b[0m\u001b[1;33m(\u001b[0m\u001b[0mfunc\u001b[0m\u001b[1;33m,\u001b[0m \u001b[1;33m*\u001b[0m\u001b[0margs\u001b[0m\u001b[1;33m,\u001b[0m \u001b[1;33m**\u001b[0m\u001b[0mkwargs\u001b[0m\u001b[1;33m)\u001b[0m\u001b[1;33m\u001b[0m\u001b[1;33m\u001b[0m\u001b[0m\n\u001b[0m\u001b[0;32m    224\u001b[0m \u001b[1;33m\u001b[0m\u001b[0m\n\u001b[0;32m    225\u001b[0m     \u001b[1;33m@\u001b[0m\u001b[0mdoc\u001b[0m\u001b[1;33m(\u001b[0m\u001b[0m_agg_template\u001b[0m\u001b[1;33m,\u001b[0m \u001b[0mexamples\u001b[0m\u001b[1;33m=\u001b[0m\u001b[0m_agg_examples_doc\u001b[0m\u001b[1;33m,\u001b[0m \u001b[0mklass\u001b[0m\u001b[1;33m=\u001b[0m\u001b[1;34m\"Series\"\u001b[0m\u001b[1;33m)\u001b[0m\u001b[1;33m\u001b[0m\u001b[1;33m\u001b[0m\u001b[0m\n",
      "\u001b[1;32m~\\AppData\\Local\\Programs\\Python\\Python39\\lib\\site-packages\\pandas\\core\\groupby\\groupby.py\u001b[0m in \u001b[0;36mapply\u001b[1;34m(self, func, *args, **kwargs)\u001b[0m\n\u001b[0;32m   1270\u001b[0m         \u001b[1;32mwith\u001b[0m \u001b[0moption_context\u001b[0m\u001b[1;33m(\u001b[0m\u001b[1;34m\"mode.chained_assignment\"\u001b[0m\u001b[1;33m,\u001b[0m \u001b[1;32mNone\u001b[0m\u001b[1;33m)\u001b[0m\u001b[1;33m:\u001b[0m\u001b[1;33m\u001b[0m\u001b[1;33m\u001b[0m\u001b[0m\n\u001b[0;32m   1271\u001b[0m             \u001b[1;32mtry\u001b[0m\u001b[1;33m:\u001b[0m\u001b[1;33m\u001b[0m\u001b[1;33m\u001b[0m\u001b[0m\n\u001b[1;32m-> 1272\u001b[1;33m                 \u001b[0mresult\u001b[0m \u001b[1;33m=\u001b[0m \u001b[0mself\u001b[0m\u001b[1;33m.\u001b[0m\u001b[0m_python_apply_general\u001b[0m\u001b[1;33m(\u001b[0m\u001b[0mf\u001b[0m\u001b[1;33m,\u001b[0m \u001b[0mself\u001b[0m\u001b[1;33m.\u001b[0m\u001b[0m_selected_obj\u001b[0m\u001b[1;33m)\u001b[0m\u001b[1;33m\u001b[0m\u001b[1;33m\u001b[0m\u001b[0m\n\u001b[0m\u001b[0;32m   1273\u001b[0m             \u001b[1;32mexcept\u001b[0m \u001b[0mTypeError\u001b[0m\u001b[1;33m:\u001b[0m\u001b[1;33m\u001b[0m\u001b[1;33m\u001b[0m\u001b[0m\n\u001b[0;32m   1274\u001b[0m                 \u001b[1;31m# gh-20949\u001b[0m\u001b[1;33m\u001b[0m\u001b[1;33m\u001b[0m\u001b[0m\n",
      "\u001b[1;32m~\\AppData\\Local\\Programs\\Python\\Python39\\lib\\site-packages\\pandas\\core\\groupby\\groupby.py\u001b[0m in \u001b[0;36m_python_apply_general\u001b[1;34m(self, f, data)\u001b[0m\n\u001b[0;32m   1304\u001b[0m             \u001b[0mdata\u001b[0m \u001b[0mafter\u001b[0m \u001b[0mapplying\u001b[0m \u001b[0mf\u001b[0m\u001b[1;33m\u001b[0m\u001b[1;33m\u001b[0m\u001b[0m\n\u001b[0;32m   1305\u001b[0m         \"\"\"\n\u001b[1;32m-> 1306\u001b[1;33m         \u001b[0mkeys\u001b[0m\u001b[1;33m,\u001b[0m \u001b[0mvalues\u001b[0m\u001b[1;33m,\u001b[0m \u001b[0mmutated\u001b[0m \u001b[1;33m=\u001b[0m \u001b[0mself\u001b[0m\u001b[1;33m.\u001b[0m\u001b[0mgrouper\u001b[0m\u001b[1;33m.\u001b[0m\u001b[0mapply\u001b[0m\u001b[1;33m(\u001b[0m\u001b[0mf\u001b[0m\u001b[1;33m,\u001b[0m \u001b[0mdata\u001b[0m\u001b[1;33m,\u001b[0m \u001b[0mself\u001b[0m\u001b[1;33m.\u001b[0m\u001b[0maxis\u001b[0m\u001b[1;33m)\u001b[0m\u001b[1;33m\u001b[0m\u001b[1;33m\u001b[0m\u001b[0m\n\u001b[0m\u001b[0;32m   1307\u001b[0m \u001b[1;33m\u001b[0m\u001b[0m\n\u001b[0;32m   1308\u001b[0m         return self._wrap_applied_output(\n",
      "\u001b[1;32m~\\AppData\\Local\\Programs\\Python\\Python39\\lib\\site-packages\\pandas\\core\\groupby\\ops.py\u001b[0m in \u001b[0;36mapply\u001b[1;34m(self, f, data, axis)\u001b[0m\n\u001b[0;32m    818\u001b[0m             \u001b[1;31m# group might be modified\u001b[0m\u001b[1;33m\u001b[0m\u001b[1;33m\u001b[0m\u001b[0m\n\u001b[0;32m    819\u001b[0m             \u001b[0mgroup_axes\u001b[0m \u001b[1;33m=\u001b[0m \u001b[0mgroup\u001b[0m\u001b[1;33m.\u001b[0m\u001b[0maxes\u001b[0m\u001b[1;33m\u001b[0m\u001b[1;33m\u001b[0m\u001b[0m\n\u001b[1;32m--> 820\u001b[1;33m             \u001b[0mres\u001b[0m \u001b[1;33m=\u001b[0m \u001b[0mf\u001b[0m\u001b[1;33m(\u001b[0m\u001b[0mgroup\u001b[0m\u001b[1;33m)\u001b[0m\u001b[1;33m\u001b[0m\u001b[1;33m\u001b[0m\u001b[0m\n\u001b[0m\u001b[0;32m    821\u001b[0m             \u001b[1;32mif\u001b[0m \u001b[1;32mnot\u001b[0m \u001b[0m_is_indexed_like\u001b[0m\u001b[1;33m(\u001b[0m\u001b[0mres\u001b[0m\u001b[1;33m,\u001b[0m \u001b[0mgroup_axes\u001b[0m\u001b[1;33m,\u001b[0m \u001b[0maxis\u001b[0m\u001b[1;33m)\u001b[0m\u001b[1;33m:\u001b[0m\u001b[1;33m\u001b[0m\u001b[1;33m\u001b[0m\u001b[0m\n\u001b[0;32m    822\u001b[0m                 \u001b[0mmutated\u001b[0m \u001b[1;33m=\u001b[0m \u001b[1;32mTrue\u001b[0m\u001b[1;33m\u001b[0m\u001b[1;33m\u001b[0m\u001b[0m\n",
      "\u001b[1;32m~\\AppData\\Local\\Temp/ipykernel_14668/1368735631.py\u001b[0m in \u001b[0;36m<lambda>\u001b[1;34m(x)\u001b[0m\n\u001b[0;32m     24\u001b[0m \u001b[0mf_min\u001b[0m \u001b[1;33m=\u001b[0m \u001b[1;32mlambda\u001b[0m \u001b[0mx\u001b[0m\u001b[1;33m:\u001b[0m \u001b[0mx\u001b[0m\u001b[1;33m.\u001b[0m\u001b[0mrolling\u001b[0m\u001b[1;33m(\u001b[0m\u001b[0mwindow\u001b[0m\u001b[1;33m=\u001b[0m\u001b[1;36m3\u001b[0m\u001b[1;33m,\u001b[0m \u001b[0mmin_periods\u001b[0m\u001b[1;33m=\u001b[0m\u001b[1;36m1\u001b[0m\u001b[1;33m)\u001b[0m\u001b[1;33m.\u001b[0m\u001b[0mmin\u001b[0m\u001b[1;33m(\u001b[0m\u001b[1;33m)\u001b[0m\u001b[1;33m\u001b[0m\u001b[1;33m\u001b[0m\u001b[0m\n\u001b[0;32m     25\u001b[0m \u001b[0mf_max\u001b[0m \u001b[1;33m=\u001b[0m \u001b[1;32mlambda\u001b[0m \u001b[0mx\u001b[0m\u001b[1;33m:\u001b[0m \u001b[0mx\u001b[0m\u001b[1;33m.\u001b[0m\u001b[0mrolling\u001b[0m\u001b[1;33m(\u001b[0m\u001b[0mwindow\u001b[0m\u001b[1;33m=\u001b[0m\u001b[1;36m3\u001b[0m\u001b[1;33m,\u001b[0m \u001b[0mmin_periods\u001b[0m\u001b[1;33m=\u001b[0m\u001b[1;36m1\u001b[0m\u001b[1;33m)\u001b[0m\u001b[1;33m.\u001b[0m\u001b[0mmax\u001b[0m\u001b[1;33m(\u001b[0m\u001b[1;33m)\u001b[0m\u001b[1;33m\u001b[0m\u001b[1;33m\u001b[0m\u001b[0m\n\u001b[1;32m---> 26\u001b[1;33m \u001b[0mf_mean\u001b[0m \u001b[1;33m=\u001b[0m \u001b[1;32mlambda\u001b[0m \u001b[0mx\u001b[0m\u001b[1;33m:\u001b[0m \u001b[0mx\u001b[0m\u001b[1;33m.\u001b[0m\u001b[0mrolling\u001b[0m\u001b[1;33m(\u001b[0m\u001b[0mwindow\u001b[0m\u001b[1;33m=\u001b[0m\u001b[1;36m3\u001b[0m\u001b[1;33m,\u001b[0m \u001b[0mmin_periods\u001b[0m\u001b[1;33m=\u001b[0m\u001b[1;36m1\u001b[0m\u001b[1;33m)\u001b[0m\u001b[1;33m.\u001b[0m\u001b[0mmean\u001b[0m\u001b[1;33m(\u001b[0m\u001b[1;33m)\u001b[0m\u001b[1;33m\u001b[0m\u001b[1;33m\u001b[0m\u001b[0m\n\u001b[0m\u001b[0;32m     27\u001b[0m \u001b[0mf_std\u001b[0m \u001b[1;33m=\u001b[0m \u001b[1;32mlambda\u001b[0m \u001b[0mx\u001b[0m\u001b[1;33m:\u001b[0m \u001b[0mx\u001b[0m\u001b[1;33m.\u001b[0m\u001b[0mrolling\u001b[0m\u001b[1;33m(\u001b[0m\u001b[0mwindow\u001b[0m\u001b[1;33m=\u001b[0m\u001b[1;36m3\u001b[0m\u001b[1;33m,\u001b[0m \u001b[0mmin_periods\u001b[0m\u001b[1;33m=\u001b[0m\u001b[1;36m1\u001b[0m\u001b[1;33m)\u001b[0m\u001b[1;33m.\u001b[0m\u001b[0mstd\u001b[0m\u001b[1;33m(\u001b[0m\u001b[1;33m)\u001b[0m\u001b[1;33m\u001b[0m\u001b[1;33m\u001b[0m\u001b[0m\n\u001b[0;32m     28\u001b[0m \u001b[1;33m\u001b[0m\u001b[0m\n",
      "\u001b[1;32m~\\AppData\\Local\\Programs\\Python\\Python39\\lib\\site-packages\\pandas\\core\\window\\rolling.py\u001b[0m in \u001b[0;36mmean\u001b[1;34m(self, engine, engine_kwargs, *args, **kwargs)\u001b[0m\n\u001b[0;32m   1836\u001b[0m     ):\n\u001b[0;32m   1837\u001b[0m         \u001b[0mnv\u001b[0m\u001b[1;33m.\u001b[0m\u001b[0mvalidate_rolling_func\u001b[0m\u001b[1;33m(\u001b[0m\u001b[1;34m\"mean\"\u001b[0m\u001b[1;33m,\u001b[0m \u001b[0margs\u001b[0m\u001b[1;33m,\u001b[0m \u001b[0mkwargs\u001b[0m\u001b[1;33m)\u001b[0m\u001b[1;33m\u001b[0m\u001b[1;33m\u001b[0m\u001b[0m\n\u001b[1;32m-> 1838\u001b[1;33m         \u001b[1;32mreturn\u001b[0m \u001b[0msuper\u001b[0m\u001b[1;33m(\u001b[0m\u001b[1;33m)\u001b[0m\u001b[1;33m.\u001b[0m\u001b[0mmean\u001b[0m\u001b[1;33m(\u001b[0m\u001b[1;33m*\u001b[0m\u001b[0margs\u001b[0m\u001b[1;33m,\u001b[0m \u001b[0mengine\u001b[0m\u001b[1;33m=\u001b[0m\u001b[0mengine\u001b[0m\u001b[1;33m,\u001b[0m \u001b[0mengine_kwargs\u001b[0m\u001b[1;33m=\u001b[0m\u001b[0mengine_kwargs\u001b[0m\u001b[1;33m,\u001b[0m \u001b[1;33m**\u001b[0m\u001b[0mkwargs\u001b[0m\u001b[1;33m)\u001b[0m\u001b[1;33m\u001b[0m\u001b[1;33m\u001b[0m\u001b[0m\n\u001b[0m\u001b[0;32m   1839\u001b[0m \u001b[1;33m\u001b[0m\u001b[0m\n\u001b[0;32m   1840\u001b[0m     @doc(\n",
      "\u001b[1;32m~\\AppData\\Local\\Programs\\Python\\Python39\\lib\\site-packages\\pandas\\core\\window\\rolling.py\u001b[0m in \u001b[0;36mmean\u001b[1;34m(self, engine, engine_kwargs, *args, **kwargs)\u001b[0m\n\u001b[0;32m   1300\u001b[0m             )\n\u001b[0;32m   1301\u001b[0m         \u001b[0mwindow_func\u001b[0m \u001b[1;33m=\u001b[0m \u001b[0mwindow_aggregations\u001b[0m\u001b[1;33m.\u001b[0m\u001b[0mroll_mean\u001b[0m\u001b[1;33m\u001b[0m\u001b[1;33m\u001b[0m\u001b[0m\n\u001b[1;32m-> 1302\u001b[1;33m         \u001b[1;32mreturn\u001b[0m \u001b[0mself\u001b[0m\u001b[1;33m.\u001b[0m\u001b[0m_apply\u001b[0m\u001b[1;33m(\u001b[0m\u001b[0mwindow_func\u001b[0m\u001b[1;33m,\u001b[0m \u001b[0mname\u001b[0m\u001b[1;33m=\u001b[0m\u001b[1;34m\"mean\"\u001b[0m\u001b[1;33m,\u001b[0m \u001b[1;33m**\u001b[0m\u001b[0mkwargs\u001b[0m\u001b[1;33m)\u001b[0m\u001b[1;33m\u001b[0m\u001b[1;33m\u001b[0m\u001b[0m\n\u001b[0m\u001b[0;32m   1303\u001b[0m \u001b[1;33m\u001b[0m\u001b[0m\n\u001b[0;32m   1304\u001b[0m     def median(\n",
      "\u001b[1;32m~\\AppData\\Local\\Programs\\Python\\Python39\\lib\\site-packages\\pandas\\core\\window\\rolling.py\u001b[0m in \u001b[0;36m_apply\u001b[1;34m(self, func, name, numba_cache_key, **kwargs)\u001b[0m\n\u001b[0;32m    537\u001b[0m \u001b[1;33m\u001b[0m\u001b[0m\n\u001b[0;32m    538\u001b[0m         \u001b[1;32mif\u001b[0m \u001b[0mself\u001b[0m\u001b[1;33m.\u001b[0m\u001b[0mmethod\u001b[0m \u001b[1;33m==\u001b[0m \u001b[1;34m\"single\"\u001b[0m\u001b[1;33m:\u001b[0m\u001b[1;33m\u001b[0m\u001b[1;33m\u001b[0m\u001b[0m\n\u001b[1;32m--> 539\u001b[1;33m             \u001b[1;32mreturn\u001b[0m \u001b[0mself\u001b[0m\u001b[1;33m.\u001b[0m\u001b[0m_apply_blockwise\u001b[0m\u001b[1;33m(\u001b[0m\u001b[0mhomogeneous_func\u001b[0m\u001b[1;33m,\u001b[0m \u001b[0mname\u001b[0m\u001b[1;33m)\u001b[0m\u001b[1;33m\u001b[0m\u001b[1;33m\u001b[0m\u001b[0m\n\u001b[0m\u001b[0;32m    540\u001b[0m         \u001b[1;32melse\u001b[0m\u001b[1;33m:\u001b[0m\u001b[1;33m\u001b[0m\u001b[1;33m\u001b[0m\u001b[0m\n\u001b[0;32m    541\u001b[0m             \u001b[1;32mreturn\u001b[0m \u001b[0mself\u001b[0m\u001b[1;33m.\u001b[0m\u001b[0m_apply_tablewise\u001b[0m\u001b[1;33m(\u001b[0m\u001b[0mhomogeneous_func\u001b[0m\u001b[1;33m,\u001b[0m \u001b[0mname\u001b[0m\u001b[1;33m)\u001b[0m\u001b[1;33m\u001b[0m\u001b[1;33m\u001b[0m\u001b[0m\n",
      "\u001b[1;32m~\\AppData\\Local\\Programs\\Python\\Python39\\lib\\site-packages\\pandas\\core\\window\\rolling.py\u001b[0m in \u001b[0;36m_apply_blockwise\u001b[1;34m(self, homogeneous_func, name)\u001b[0m\n\u001b[0;32m    415\u001b[0m         \"\"\"\n\u001b[0;32m    416\u001b[0m         \u001b[1;32mif\u001b[0m \u001b[0mself\u001b[0m\u001b[1;33m.\u001b[0m\u001b[0m_selected_obj\u001b[0m\u001b[1;33m.\u001b[0m\u001b[0mndim\u001b[0m \u001b[1;33m==\u001b[0m \u001b[1;36m1\u001b[0m\u001b[1;33m:\u001b[0m\u001b[1;33m\u001b[0m\u001b[1;33m\u001b[0m\u001b[0m\n\u001b[1;32m--> 417\u001b[1;33m             \u001b[1;32mreturn\u001b[0m \u001b[0mself\u001b[0m\u001b[1;33m.\u001b[0m\u001b[0m_apply_series\u001b[0m\u001b[1;33m(\u001b[0m\u001b[0mhomogeneous_func\u001b[0m\u001b[1;33m,\u001b[0m \u001b[0mname\u001b[0m\u001b[1;33m)\u001b[0m\u001b[1;33m\u001b[0m\u001b[1;33m\u001b[0m\u001b[0m\n\u001b[0m\u001b[0;32m    418\u001b[0m \u001b[1;33m\u001b[0m\u001b[0m\n\u001b[0;32m    419\u001b[0m         \u001b[0mobj\u001b[0m \u001b[1;33m=\u001b[0m \u001b[0mself\u001b[0m\u001b[1;33m.\u001b[0m\u001b[0m_create_data\u001b[0m\u001b[1;33m(\u001b[0m\u001b[0mself\u001b[0m\u001b[1;33m.\u001b[0m\u001b[0m_selected_obj\u001b[0m\u001b[1;33m)\u001b[0m\u001b[1;33m\u001b[0m\u001b[1;33m\u001b[0m\u001b[0m\n",
      "\u001b[1;32m~\\AppData\\Local\\Programs\\Python\\Python39\\lib\\site-packages\\pandas\\core\\window\\rolling.py\u001b[0m in \u001b[0;36m_apply_series\u001b[1;34m(self, homogeneous_func, name)\u001b[0m\n\u001b[0;32m    404\u001b[0m             \u001b[1;32mraise\u001b[0m \u001b[0mDataError\u001b[0m\u001b[1;33m(\u001b[0m\u001b[1;34m\"No numeric types to aggregate\"\u001b[0m\u001b[1;33m)\u001b[0m \u001b[1;32mfrom\u001b[0m \u001b[0merr\u001b[0m\u001b[1;33m\u001b[0m\u001b[1;33m\u001b[0m\u001b[0m\n\u001b[0;32m    405\u001b[0m \u001b[1;33m\u001b[0m\u001b[0m\n\u001b[1;32m--> 406\u001b[1;33m         \u001b[0mresult\u001b[0m \u001b[1;33m=\u001b[0m \u001b[0mhomogeneous_func\u001b[0m\u001b[1;33m(\u001b[0m\u001b[0mvalues\u001b[0m\u001b[1;33m)\u001b[0m\u001b[1;33m\u001b[0m\u001b[1;33m\u001b[0m\u001b[0m\n\u001b[0m\u001b[0;32m    407\u001b[0m         \u001b[1;32mreturn\u001b[0m \u001b[0mobj\u001b[0m\u001b[1;33m.\u001b[0m\u001b[0m_constructor\u001b[0m\u001b[1;33m(\u001b[0m\u001b[0mresult\u001b[0m\u001b[1;33m,\u001b[0m \u001b[0mindex\u001b[0m\u001b[1;33m=\u001b[0m\u001b[0mobj\u001b[0m\u001b[1;33m.\u001b[0m\u001b[0mindex\u001b[0m\u001b[1;33m,\u001b[0m \u001b[0mname\u001b[0m\u001b[1;33m=\u001b[0m\u001b[0mobj\u001b[0m\u001b[1;33m.\u001b[0m\u001b[0mname\u001b[0m\u001b[1;33m)\u001b[0m\u001b[1;33m\u001b[0m\u001b[1;33m\u001b[0m\u001b[0m\n\u001b[0;32m    408\u001b[0m \u001b[1;33m\u001b[0m\u001b[0m\n",
      "\u001b[1;32m~\\AppData\\Local\\Programs\\Python\\Python39\\lib\\site-packages\\pandas\\core\\window\\rolling.py\u001b[0m in \u001b[0;36mhomogeneous_func\u001b[1;34m(values)\u001b[0m\n\u001b[0;32m    525\u001b[0m                 \u001b[1;32mreturn\u001b[0m \u001b[0mfunc\u001b[0m\u001b[1;33m(\u001b[0m\u001b[0mx\u001b[0m\u001b[1;33m,\u001b[0m \u001b[0mstart\u001b[0m\u001b[1;33m,\u001b[0m \u001b[0mend\u001b[0m\u001b[1;33m,\u001b[0m \u001b[0mmin_periods\u001b[0m\u001b[1;33m)\u001b[0m\u001b[1;33m\u001b[0m\u001b[1;33m\u001b[0m\u001b[0m\n\u001b[0;32m    526\u001b[0m \u001b[1;33m\u001b[0m\u001b[0m\n\u001b[1;32m--> 527\u001b[1;33m             \u001b[1;32mwith\u001b[0m \u001b[0mnp\u001b[0m\u001b[1;33m.\u001b[0m\u001b[0merrstate\u001b[0m\u001b[1;33m(\u001b[0m\u001b[0mall\u001b[0m\u001b[1;33m=\u001b[0m\u001b[1;34m\"ignore\"\u001b[0m\u001b[1;33m)\u001b[0m\u001b[1;33m:\u001b[0m\u001b[1;33m\u001b[0m\u001b[1;33m\u001b[0m\u001b[0m\n\u001b[0m\u001b[0;32m    528\u001b[0m                 \u001b[1;32mif\u001b[0m \u001b[0mvalues\u001b[0m\u001b[1;33m.\u001b[0m\u001b[0mndim\u001b[0m \u001b[1;33m>\u001b[0m \u001b[1;36m1\u001b[0m \u001b[1;32mand\u001b[0m \u001b[0mself\u001b[0m\u001b[1;33m.\u001b[0m\u001b[0mmethod\u001b[0m \u001b[1;33m==\u001b[0m \u001b[1;34m\"single\"\u001b[0m\u001b[1;33m:\u001b[0m\u001b[1;33m\u001b[0m\u001b[1;33m\u001b[0m\u001b[0m\n\u001b[0;32m    529\u001b[0m                     \u001b[0mresult\u001b[0m \u001b[1;33m=\u001b[0m \u001b[0mnp\u001b[0m\u001b[1;33m.\u001b[0m\u001b[0mapply_along_axis\u001b[0m\u001b[1;33m(\u001b[0m\u001b[0mcalc\u001b[0m\u001b[1;33m,\u001b[0m \u001b[0mself\u001b[0m\u001b[1;33m.\u001b[0m\u001b[0maxis\u001b[0m\u001b[1;33m,\u001b[0m \u001b[0mvalues\u001b[0m\u001b[1;33m)\u001b[0m\u001b[1;33m\u001b[0m\u001b[1;33m\u001b[0m\u001b[0m\n",
      "\u001b[1;32m~\\AppData\\Local\\Programs\\Python\\Python39\\lib\\site-packages\\numpy\\core\\_ufunc_config.py\u001b[0m in \u001b[0;36m__enter__\u001b[1;34m(self)\u001b[0m\n\u001b[0;32m    428\u001b[0m \u001b[1;33m\u001b[0m\u001b[0m\n\u001b[0;32m    429\u001b[0m     \u001b[1;32mdef\u001b[0m \u001b[0m__enter__\u001b[0m\u001b[1;33m(\u001b[0m\u001b[0mself\u001b[0m\u001b[1;33m)\u001b[0m\u001b[1;33m:\u001b[0m\u001b[1;33m\u001b[0m\u001b[1;33m\u001b[0m\u001b[0m\n\u001b[1;32m--> 430\u001b[1;33m         \u001b[0mself\u001b[0m\u001b[1;33m.\u001b[0m\u001b[0moldstate\u001b[0m \u001b[1;33m=\u001b[0m \u001b[0mseterr\u001b[0m\u001b[1;33m(\u001b[0m\u001b[1;33m**\u001b[0m\u001b[0mself\u001b[0m\u001b[1;33m.\u001b[0m\u001b[0mkwargs\u001b[0m\u001b[1;33m)\u001b[0m\u001b[1;33m\u001b[0m\u001b[1;33m\u001b[0m\u001b[0m\n\u001b[0m\u001b[0;32m    431\u001b[0m         \u001b[1;32mif\u001b[0m \u001b[0mself\u001b[0m\u001b[1;33m.\u001b[0m\u001b[0mcall\u001b[0m \u001b[1;32mis\u001b[0m \u001b[1;32mnot\u001b[0m \u001b[0m_Unspecified\u001b[0m\u001b[1;33m:\u001b[0m\u001b[1;33m\u001b[0m\u001b[1;33m\u001b[0m\u001b[0m\n\u001b[0;32m    432\u001b[0m             \u001b[0mself\u001b[0m\u001b[1;33m.\u001b[0m\u001b[0moldcall\u001b[0m \u001b[1;33m=\u001b[0m \u001b[0mseterrcall\u001b[0m\u001b[1;33m(\u001b[0m\u001b[0mself\u001b[0m\u001b[1;33m.\u001b[0m\u001b[0mcall\u001b[0m\u001b[1;33m)\u001b[0m\u001b[1;33m\u001b[0m\u001b[1;33m\u001b[0m\u001b[0m\n",
      "\u001b[1;31mKeyboardInterrupt\u001b[0m: "
     ]
    }
   ],
   "source": [
    "for i in range(len(function_list)):\n",
    "    train_mensual[('item_cnt_%s' % function_name[i])] = train_mensual.sort_values('date_block_num').groupby(['shop_id', 'item_category_id', 'item_id'])['item_cnt'].apply(function_list[i])\n",
    "\n",
    "train_mensual['item_cnt_std'].fillna(0, inplace=True)"
   ]
  },
  {
   "cell_type": "code",
   "execution_count": null,
   "id": "74f29b80-e6f5-414a-a949-348e046b46b1",
   "metadata": {},
   "outputs": [],
   "source": [
    "lag_list = [1, 2, 3]\n",
    "\n",
    "for lag in lag_list:\n",
    "    ft_name = ('item_cnt_shifted%s' % lag)\n",
    "    train_mensual[ft_name] = train_mensual.sort_values('date_block_num').groupby(['shop_id', 'item_category_id',\n",
    "                                                                                  'item_id'])['item_cnt'].shift(lag)\n",
    "    \n",
    "    train_mensual[ft_name].fillna(0, inplace=True)\n",
    "    \n",
    "train_mensual['item_trend'] = train_mensual['item_cnt']"
   ]
  },
  {
   "cell_type": "code",
   "execution_count": null,
   "id": "b3de86e7-011a-4e75-a305-eac584e4a178",
   "metadata": {},
   "outputs": [],
   "source": [
    "for lag in lag_list:\n",
    "    ft_name = ('item_cnt_shifted%s' % lag)\n",
    "    train_mensual['item_trend'] -= train_mensual[ft_name]\n",
    "\n",
    "train_mensual['item_trend'] /= len(lag_list) + 1"
   ]
  },
  {
   "cell_type": "code",
   "execution_count": null,
   "id": "a8a0a443-7233-4f73-b4b9-245cec3b588a",
   "metadata": {},
   "outputs": [],
   "source": [
    "train_set = train_mensual.query('date_block_num >= 3 and date_block_num < 28').copy()\n",
    "validation_set = train_mensual.query('date_block_num >= 28 and date_block_num < 33').copy()\n",
    "test_set = train_mensual.query('date_block_num == 33').copy()\n",
    "\n",
    "train_set.dropna(subset=['item_cnt_month'], inplace=True)\n",
    "validation_set.dropna(subset=['item_cnt_month'], inplace=True)\n",
    "\n",
    "train_set.dropna(inplace=True)\n",
    "validation_set.dropna(inplace=True)\n",
    "\n",
    "print('Datos de Entrenamiento:', train_set.shape[0])\n",
    "print('Datos de Validación:', validation_set.shape[0])\n",
    "print('Datos de Testeo:', test_set.shape[0])\n",
    "\n",
    "print('Datos de Entrenamiento: %s (%.f%% de datos completos)' % (train_set.shape[0], ((train_set.shape[0]/train_monthly.shape[0])*100)))\n",
    "print('Datos de Validación: %s (%.f%% de datos completos)' % (validation_set.shape[0], ((validation_set.shape[0]/train_monthly.shape[0])*100)))"
   ]
  },
  {
   "cell_type": "code",
   "execution_count": null,
   "id": "812f388e-c008-4bb9-9d79-83c2ada656a9",
   "metadata": {},
   "outputs": [],
   "source": [
    "# Shop mean encoding.\n",
    "gp_shop_mean = train_set.groupby(['shop_id']).agg({'item_cnt_month': ['mean']})\n",
    "gp_shop_mean.columns = ['shop_mean']\n",
    "gp_shop_mean.reset_index(inplace=True)\n",
    "# Item mean encoding.\n",
    "gp_item_mean = train_set.groupby(['item_id']).agg({'item_cnt_month': ['mean']})\n",
    "gp_item_mean.columns = ['item_mean']\n",
    "gp_item_mean.reset_index(inplace=True)\n",
    "# Shop with item mean encoding.\n",
    "gp_shop_item_mean = train_set.groupby(['shop_id', 'item_id']).agg({'item_cnt_month': ['mean']})\n",
    "gp_shop_item_mean.columns = ['shop_item_mean']\n",
    "gp_shop_item_mean.reset_index(inplace=True)\n",
    "# Year mean encoding.\n",
    "gp_year_mean = train_set.groupby(['year']).agg({'item_cnt_month': ['mean']})\n",
    "gp_year_mean.columns = ['year_mean']\n",
    "gp_year_mean.reset_index(inplace=True)\n",
    "# Month mean encoding.\n",
    "gp_month_mean = train_set.groupby(['month']).agg({'item_cnt_month': ['mean']})\n",
    "gp_month_mean.columns = ['month_mean']\n",
    "gp_month_mean.reset_index(inplace=True)\n",
    "\n",
    "# Add meand encoding features to train set.\n",
    "train_set = pd.merge(train_set, gp_shop_mean, on=['shop_id'], how='left')\n",
    "train_set = pd.merge(train_set, gp_item_mean, on=['item_id'], how='left')\n",
    "train_set = pd.merge(train_set, gp_shop_item_mean, on=['shop_id', 'item_id'], how='left')\n",
    "train_set = pd.merge(train_set, gp_year_mean, on=['year'], how='left')\n",
    "train_set = pd.merge(train_set, gp_month_mean, on=['month'], how='left')\n",
    "# Add meand encoding features to validation set.\n",
    "validation_set = pd.merge(validation_set, gp_shop_mean, on=['shop_id'], how='left')\n",
    "validation_set = pd.merge(validation_set, gp_item_mean, on=['item_id'], how='left')\n",
    "validation_set = pd.merge(validation_set, gp_shop_item_mean, on=['shop_id', 'item_id'], how='left')\n",
    "validation_set = pd.merge(validation_set, gp_year_mean, on=['year'], how='left')\n",
    "validation_set = pd.merge(validation_set, gp_month_mean, on=['month'], how='left')"
   ]
  },
  {
   "cell_type": "code",
   "execution_count": null,
   "id": "1cbbf5b5-72ad-482a-9962-769eb6ddf50c",
   "metadata": {},
   "outputs": [],
   "source": [
    "# Create train and validation sets and labels. \n",
    "X_train = train_set.drop(['item_cnt_month', 'date_block_num'], axis=1)\n",
    "Y_train = train_set['item_cnt_month'].astype(int)\n",
    "X_validation = validation_set.drop(['item_cnt_month', 'date_block_num'], axis=1)\n",
    "Y_validation = validation_set['item_cnt_month'].astype(int)"
   ]
  },
  {
   "cell_type": "code",
   "execution_count": null,
   "id": "bd6b858c-e23b-42ed-8ba4-9b002c72ff62",
   "metadata": {},
   "outputs": [],
   "source": [
    "latest_records = pd.concat([train_set, validation_set]).drop_duplicates(subset=['shop_id', 'item_id'], keep='last')\n",
    "X_test = pd.merge(test, latest_records, on=['shop_id', 'item_id'], how='left', suffixes=['', '_'])\n",
    "X_test['year'] = 2015\n",
    "X_test['month'] = 9\n",
    "X_test.drop('item_cnt_month', axis=1, inplace=True)\n",
    "X_test[int_features] = X_test[int_features].astype('int32')\n",
    "X_test = X_test[X_train.columns]"
   ]
  },
  {
   "cell_type": "code",
   "execution_count": null,
   "id": "4bdceebe-96b2-4161-b1dc-e9c2fae8d4b8",
   "metadata": {},
   "outputs": [],
   "source": [
    "sets = [X_train, X_validation, X_test]\n",
    "\n",
    "for dataset in sets:\n",
    "    for shop_id in dataset['shop_id'].unique():\n",
    "        for column in dataset.columns:\n",
    "            shop_median = dataset[(dataset['shop_id'] == shop_id)][column].median()\n",
    "            dataset.loc[(dataset[column].isnull()) & (dataset['shop_id'] == shop_id), column] = shop_median\n",
    "            \n",
    "# Fill remaining missing values on test set with mean.\n",
    "X_test.fillna(X_test.mean(), inplace=True)"
   ]
  },
  {
   "cell_type": "code",
   "execution_count": null,
   "id": "124080b0-015a-42d2-84f9-d6b41b83c175",
   "metadata": {},
   "outputs": [],
   "source": [
    "# I'm dropping \"item_category_id\", we don't have it on test set and would be a little hard to create categories for items that exist only on test set.\n",
    "X_train.drop(['item_category_id'], axis=1, inplace=True)\n",
    "X_validation.drop(['item_category_id'], axis=1, inplace=True)\n",
    "X_test.drop(['item_category_id'], axis=1, inplace=True)"
   ]
  },
  {
   "cell_type": "code",
   "execution_count": null,
   "id": "5165bcd7-0516-4151-b6fd-44e6bb1854bb",
   "metadata": {},
   "outputs": [],
   "source": [
    "# Use only part of features on random forest.\n",
    "rf_features = ['shop_id', 'item_id', 'item_cnt', 'transactions', 'year',\n",
    "               'item_cnt_mean', 'item_cnt_std', 'item_cnt_shifted1', \n",
    "               'shop_mean', 'item_mean', 'item_trend', 'mean_item_cnt']\n",
    "rf_train = X_train[rf_features]\n",
    "rf_val = X_validation[rf_features]\n",
    "rf_test = X_test[rf_features]"
   ]
  },
  {
   "cell_type": "code",
   "execution_count": null,
   "id": "888c3cc7-d1ec-4a8e-9f65-2e4a3bf7c592",
   "metadata": {},
   "outputs": [],
   "source": [
    "rf_model = RandomForestRegressor(n_estimators=50, max_depth=7, random_state=0, n_jobs=-1)\n",
    "rf_model.fit(rf_train, Y_train)"
   ]
  },
  {
   "cell_type": "code",
   "execution_count": null,
   "id": "cbb97c99-a83d-4f6e-bef4-0169b245662c",
   "metadata": {},
   "outputs": [],
   "source": [
    "rf_train_pred = rf_model.predict(rf_train)\n",
    "rf_val_pred = rf_model.predict(rf_val)\n",
    "rf_test_pred = rf_model.predict(rf_test)"
   ]
  },
  {
   "cell_type": "code",
   "execution_count": null,
   "id": "031d4949-a256-43c7-abfd-269db1b67e61",
   "metadata": {},
   "outputs": [],
   "source": [
    "print('Train rmse:', np.sqrt(mean_squared_error(Y_train, rf_train_pred)))\n",
    "print('Validation rmse:', np.sqrt(mean_squared_error(Y_validation, rf_val_pred)))"
   ]
  },
  {
   "cell_type": "code",
   "execution_count": null,
   "id": "864a0324-3d17-478d-a399-aabcdde1da52",
   "metadata": {},
   "outputs": [],
   "source": [
    "# model_performance_sc_plot(rf_train_pred, Y_train, 'Train')\n",
    "model_performance_sc_plot(rf_val_pred, Y_validation, 'Validation')"
   ]
  }
 ],
 "metadata": {
  "kernelspec": {
   "display_name": "Python 3 (ipykernel)",
   "language": "python",
   "name": "python3"
  },
  "language_info": {
   "codemirror_mode": {
    "name": "ipython",
    "version": 3
   },
   "file_extension": ".py",
   "mimetype": "text/x-python",
   "name": "python",
   "nbconvert_exporter": "python",
   "pygments_lexer": "ipython3",
   "version": "3.9.7"
  }
 },
 "nbformat": 4,
 "nbformat_minor": 5
}
