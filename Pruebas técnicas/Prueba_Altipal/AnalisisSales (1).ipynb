{
  "cells": [
    {
      "cell_type": "markdown",
      "id": "a8feb337-d151-4a4c-bd61-8be3d83dede5",
      "metadata": {
        "id": "a8feb337-d151-4a4c-bd61-8be3d83dede5"
      },
      "source": [
        "# Análisis de Ventas"
      ]
    },
    {
      "cell_type": "markdown",
      "id": "7351840a-368d-4a2e-b34d-2a7cd29d8b42",
      "metadata": {
        "id": "7351840a-368d-4a2e-b34d-2a7cd29d8b42"
      },
      "source": [
        "## Desarrollado por Julian Quimbayo"
      ]
    },
    {
      "cell_type": "markdown",
      "id": "9c346ce8-5a7d-4d63-b0d8-6c8aa4658419",
      "metadata": {
        "id": "9c346ce8-5a7d-4d63-b0d8-6c8aa4658419"
      },
      "source": [
        "### Se desea predecir las ventas futuras apoyados en la siguiente data que se comparte a continuación:"
      ]
    },
    {
      "cell_type": "raw",
      "id": "6eb82961-c2ef-4454-ab1d-58ce2cc42739",
      "metadata": {
        "id": "6eb82961-c2ef-4454-ab1d-58ce2cc42739"
      },
      "source": [
        "Observaciones identificadas:\n",
        "1. ID - es un id que esta representado en una tupla en el dataframe test\n",
        "2. shop_id - Identificador de una tienda\n",
        "3. item_id - Identificador de un producto\n",
        "4. item_category_id - Identificador de item_categoria\n",
        "5. date_block_num - Un número consecutivo para cada mes. Para Enero 2013 is 0, Febrero 2013 is 1, así hasta Octubre 2015 es 33\n",
        "6. date - fecha en formato dd/mm/yyyy\n",
        "7. item_cnt_day - Número de productos vendidos. Se va a predecir mensualmente con respecto a esta medida.\n",
        "8. item_price - Precio actual de un producto o item.\n",
        "9. item_name - nombre del producto o item\n",
        "10. shop_name - nombre de la tienda\n",
        "11. item_category_name - Nombre de la categoría del item / producto.\n",
        "\n",
        "\n"
      ]
    },
    {
      "cell_type": "markdown",
      "id": "beaca911-fc80-43f4-b123-47f2bd86f5fe",
      "metadata": {
        "id": "beaca911-fc80-43f4-b123-47f2bd86f5fe"
      },
      "source": [
        "### PASO 1: Importación de librerías"
      ]
    },
    {
      "cell_type": "code",
      "execution_count": 49,
      "id": "440fef0a-f7eb-4d3d-a310-a0df0d3ec5d5",
      "metadata": {
        "id": "440fef0a-f7eb-4d3d-a310-a0df0d3ec5d5"
      },
      "outputs": [],
      "source": [
        "###Cargue de Librerías Básicas\n",
        "import datetime\n",
        "import warnings\n",
        "import numpy as np\n",
        "import pandas as pd\n",
        "import seaborn as sns\n",
        "import matplotlib.pyplot as plt\n",
        "from sklearn.metrics import mean_squared_error\n",
        "from sklearn.metrics import r2_score\n",
        "from sklearn.linear_model import LinearRegression\n",
        "from sklearn.neighbors import KNeighborsRegressor\n",
        "from sklearn.ensemble import RandomForestRegressor\n",
        "from xgboost import plot_importance\n",
        "from sklearn.preprocessing import StandardScaler, MinMaxScaler\n",
        "\n",
        "%matplotlib inline\n",
        "sns.set(style=\"darkgrid\")\n",
        "pd.set_option('display.float_format', lambda x: '%.2f' % x)\n",
        "warnings.filterwarnings(\"ignore\")"
      ]
    },
    {
      "cell_type": "markdown",
      "id": "d7b82733-5bc1-447e-8401-d9fd3cec084b",
      "metadata": {
        "id": "d7b82733-5bc1-447e-8401-d9fd3cec084b"
      },
      "source": [
        "### PASO 2: Cargue de la data y refinamiento de tipos de datos"
      ]
    },
    {
      "cell_type": "code",
      "execution_count": 6,
      "id": "c81880d2-e866-422d-ae59-0d39fe343268",
      "metadata": {
        "id": "c81880d2-e866-422d-ae59-0d39fe343268"
      },
      "outputs": [],
      "source": [
        "##Importación de todas las fuentes de datos y reconversión de tipos de datos.\n",
        "test = pd.read_csv('/content/drive/MyDrive/Colab Notebooks/PruebaAltipal/test.csv', dtype={'ID': 'int32', 'shop_id': 'int32', 'item_id': 'int32'})\n",
        "\n",
        "item_categorias = pd.read_csv('/content/drive/MyDrive/Colab Notebooks/PruebaAltipal/item_categories.csv', \n",
        "                              dtype={'item_category_name': 'str', 'item_category_id': 'int32'})\n",
        "\n",
        "items = pd.read_csv('/content/drive/MyDrive/Colab Notebooks/PruebaAltipal/items.csv', dtype={'item_name': 'str', 'item_id': 'int32', \n",
        "                                                 'item_category_id': 'int32'})\n",
        "\n",
        "tiendas = pd.read_csv('/content/drive/MyDrive/Colab Notebooks/PruebaAltipal/shops.csv', dtype={'shop_name': 'str', 'shop_id': 'int32'})\n",
        "\n",
        "ventas = pd.read_csv('/content/drive/MyDrive/Colab Notebooks/PruebaAltipal/sales_train.csv', parse_dates=['date'], \n",
        "                    dtype={'date': 'str', 'date_block_num': 'int32', 'shop_id': 'int32', \n",
        "                          'item_id': 'int32', 'item_price': 'float32', 'item_cnt_day': 'int32'})"
      ]
    },
    {
      "cell_type": "code",
      "execution_count": 7,
      "id": "9d8a100f-a07a-4ca2-ae52-c6c69895cd8a",
      "metadata": {
        "colab": {
          "base_uri": "https://localhost:8080/",
          "height": 355
        },
        "id": "9d8a100f-a07a-4ca2-ae52-c6c69895cd8a",
        "outputId": "3a554f9b-308c-4e42-ab5e-9cfcb2979e7d"
      },
      "outputs": [
        {
          "output_type": "execute_result",
          "data": {
            "text/html": [
              "\n",
              "  <div id=\"df-a81d56b3-b6e3-408c-95dc-6af52b492064\">\n",
              "    <div class=\"colab-df-container\">\n",
              "      <div>\n",
              "<style scoped>\n",
              "    .dataframe tbody tr th:only-of-type {\n",
              "        vertical-align: middle;\n",
              "    }\n",
              "\n",
              "    .dataframe tbody tr th {\n",
              "        vertical-align: top;\n",
              "    }\n",
              "\n",
              "    .dataframe thead th {\n",
              "        text-align: right;\n",
              "    }\n",
              "</style>\n",
              "<table border=\"1\" class=\"dataframe\">\n",
              "  <thead>\n",
              "    <tr style=\"text-align: right;\">\n",
              "      <th></th>\n",
              "      <th>date</th>\n",
              "      <th>date_block_num</th>\n",
              "      <th>shop_id</th>\n",
              "      <th>item_id</th>\n",
              "      <th>item_price</th>\n",
              "      <th>item_cnt_day</th>\n",
              "      <th>item_name</th>\n",
              "      <th>item_category_id</th>\n",
              "      <th>shop_name</th>\n",
              "      <th>item_category_name</th>\n",
              "    </tr>\n",
              "  </thead>\n",
              "  <tbody>\n",
              "    <tr>\n",
              "      <th>0</th>\n",
              "      <td>2013-02-01</td>\n",
              "      <td>0</td>\n",
              "      <td>59</td>\n",
              "      <td>22154</td>\n",
              "      <td>999.00</td>\n",
              "      <td>1</td>\n",
              "      <td>ЯВЛЕНИЕ 2012 (BD)</td>\n",
              "      <td>37</td>\n",
              "      <td>Ярославль ТЦ \"Альтаир\"</td>\n",
              "      <td>Кино - Blu-Ray</td>\n",
              "    </tr>\n",
              "    <tr>\n",
              "      <th>1</th>\n",
              "      <td>2013-03-01</td>\n",
              "      <td>0</td>\n",
              "      <td>25</td>\n",
              "      <td>2552</td>\n",
              "      <td>899.00</td>\n",
              "      <td>1</td>\n",
              "      <td>DEEP PURPLE  The House Of Blue Light  LP</td>\n",
              "      <td>58</td>\n",
              "      <td>Москва ТРК \"Атриум\"</td>\n",
              "      <td>Музыка - Винил</td>\n",
              "    </tr>\n",
              "    <tr>\n",
              "      <th>2</th>\n",
              "      <td>2013-05-01</td>\n",
              "      <td>0</td>\n",
              "      <td>25</td>\n",
              "      <td>2552</td>\n",
              "      <td>899.00</td>\n",
              "      <td>-1</td>\n",
              "      <td>DEEP PURPLE  The House Of Blue Light  LP</td>\n",
              "      <td>58</td>\n",
              "      <td>Москва ТРК \"Атриум\"</td>\n",
              "      <td>Музыка - Винил</td>\n",
              "    </tr>\n",
              "    <tr>\n",
              "      <th>3</th>\n",
              "      <td>2013-06-01</td>\n",
              "      <td>0</td>\n",
              "      <td>25</td>\n",
              "      <td>2554</td>\n",
              "      <td>1709.05</td>\n",
              "      <td>1</td>\n",
              "      <td>DEEP PURPLE  Who Do You Think We Are  LP</td>\n",
              "      <td>58</td>\n",
              "      <td>Москва ТРК \"Атриум\"</td>\n",
              "      <td>Музыка - Винил</td>\n",
              "    </tr>\n",
              "    <tr>\n",
              "      <th>4</th>\n",
              "      <td>2013-01-15</td>\n",
              "      <td>0</td>\n",
              "      <td>25</td>\n",
              "      <td>2555</td>\n",
              "      <td>1099.00</td>\n",
              "      <td>1</td>\n",
              "      <td>DEEP PURPLE 30 Very Best Of 2CD (Фирм.)</td>\n",
              "      <td>56</td>\n",
              "      <td>Москва ТРК \"Атриум\"</td>\n",
              "      <td>Музыка - CD фирменного производства</td>\n",
              "    </tr>\n",
              "  </tbody>\n",
              "</table>\n",
              "</div>\n",
              "      <button class=\"colab-df-convert\" onclick=\"convertToInteractive('df-a81d56b3-b6e3-408c-95dc-6af52b492064')\"\n",
              "              title=\"Convert this dataframe to an interactive table.\"\n",
              "              style=\"display:none;\">\n",
              "        \n",
              "  <svg xmlns=\"http://www.w3.org/2000/svg\" height=\"24px\"viewBox=\"0 0 24 24\"\n",
              "       width=\"24px\">\n",
              "    <path d=\"M0 0h24v24H0V0z\" fill=\"none\"/>\n",
              "    <path d=\"M18.56 5.44l.94 2.06.94-2.06 2.06-.94-2.06-.94-.94-2.06-.94 2.06-2.06.94zm-11 1L8.5 8.5l.94-2.06 2.06-.94-2.06-.94L8.5 2.5l-.94 2.06-2.06.94zm10 10l.94 2.06.94-2.06 2.06-.94-2.06-.94-.94-2.06-.94 2.06-2.06.94z\"/><path d=\"M17.41 7.96l-1.37-1.37c-.4-.4-.92-.59-1.43-.59-.52 0-1.04.2-1.43.59L10.3 9.45l-7.72 7.72c-.78.78-.78 2.05 0 2.83L4 21.41c.39.39.9.59 1.41.59.51 0 1.02-.2 1.41-.59l7.78-7.78 2.81-2.81c.8-.78.8-2.07 0-2.86zM5.41 20L4 18.59l7.72-7.72 1.47 1.35L5.41 20z\"/>\n",
              "  </svg>\n",
              "      </button>\n",
              "      \n",
              "  <style>\n",
              "    .colab-df-container {\n",
              "      display:flex;\n",
              "      flex-wrap:wrap;\n",
              "      gap: 12px;\n",
              "    }\n",
              "\n",
              "    .colab-df-convert {\n",
              "      background-color: #E8F0FE;\n",
              "      border: none;\n",
              "      border-radius: 50%;\n",
              "      cursor: pointer;\n",
              "      display: none;\n",
              "      fill: #1967D2;\n",
              "      height: 32px;\n",
              "      padding: 0 0 0 0;\n",
              "      width: 32px;\n",
              "    }\n",
              "\n",
              "    .colab-df-convert:hover {\n",
              "      background-color: #E2EBFA;\n",
              "      box-shadow: 0px 1px 2px rgba(60, 64, 67, 0.3), 0px 1px 3px 1px rgba(60, 64, 67, 0.15);\n",
              "      fill: #174EA6;\n",
              "    }\n",
              "\n",
              "    [theme=dark] .colab-df-convert {\n",
              "      background-color: #3B4455;\n",
              "      fill: #D2E3FC;\n",
              "    }\n",
              "\n",
              "    [theme=dark] .colab-df-convert:hover {\n",
              "      background-color: #434B5C;\n",
              "      box-shadow: 0px 1px 3px 1px rgba(0, 0, 0, 0.15);\n",
              "      filter: drop-shadow(0px 1px 2px rgba(0, 0, 0, 0.3));\n",
              "      fill: #FFFFFF;\n",
              "    }\n",
              "  </style>\n",
              "\n",
              "      <script>\n",
              "        const buttonEl =\n",
              "          document.querySelector('#df-a81d56b3-b6e3-408c-95dc-6af52b492064 button.colab-df-convert');\n",
              "        buttonEl.style.display =\n",
              "          google.colab.kernel.accessAllowed ? 'block' : 'none';\n",
              "\n",
              "        async function convertToInteractive(key) {\n",
              "          const element = document.querySelector('#df-a81d56b3-b6e3-408c-95dc-6af52b492064');\n",
              "          const dataTable =\n",
              "            await google.colab.kernel.invokeFunction('convertToInteractive',\n",
              "                                                     [key], {});\n",
              "          if (!dataTable) return;\n",
              "\n",
              "          const docLinkHtml = 'Like what you see? Visit the ' +\n",
              "            '<a target=\"_blank\" href=https://colab.research.google.com/notebooks/data_table.ipynb>data table notebook</a>'\n",
              "            + ' to learn more about interactive tables.';\n",
              "          element.innerHTML = '';\n",
              "          dataTable['output_type'] = 'display_data';\n",
              "          await google.colab.output.renderOutput(dataTable, element);\n",
              "          const docLink = document.createElement('div');\n",
              "          docLink.innerHTML = docLinkHtml;\n",
              "          element.appendChild(docLink);\n",
              "        }\n",
              "      </script>\n",
              "    </div>\n",
              "  </div>\n",
              "  "
            ],
            "text/plain": [
              "        date  ...                   item_category_name\n",
              "0 2013-02-01  ...                       Кино - Blu-Ray\n",
              "1 2013-03-01  ...                       Музыка - Винил\n",
              "2 2013-05-01  ...                       Музыка - Винил\n",
              "3 2013-06-01  ...                       Музыка - Винил\n",
              "4 2013-01-15  ...  Музыка - CD фирменного производства\n",
              "\n",
              "[5 rows x 10 columns]"
            ]
          },
          "metadata": {},
          "execution_count": 7
        }
      ],
      "source": [
        "##Join entre ventas que se une con items en item_id, ventas con tiendas que se unen en shop_id y \n",
        "##ventas con item_categorias que se unen en item_category_id\n",
        "train = ventas.join(items, on='item_id', rsuffix='_').join(tiendas, on='shop_id', rsuffix='_').join(item_categorias, on='item_category_id', rsuffix='_').drop(['item_id_', 'shop_id_', 'item_category_id_'], axis=1)\n",
        "\n",
        "train.head()"
      ]
    },
    {
      "cell_type": "markdown",
      "id": "212133a9-36f2-4b2e-87ac-5eab5b5acbad",
      "metadata": {
        "id": "212133a9-36f2-4b2e-87ac-5eab5b5acbad"
      },
      "source": [
        "### PASO 3: Análisis Exploratorio Descriptivo (EDA)"
      ]
    },
    {
      "cell_type": "code",
      "execution_count": 8,
      "id": "66a0f894-59c4-41f1-bb3d-c4489df6b68f",
      "metadata": {
        "colab": {
          "base_uri": "https://localhost:8080/",
          "height": 0
        },
        "id": "66a0f894-59c4-41f1-bb3d-c4489df6b68f",
        "outputId": "ba558c6c-f1c7-44cc-af88-5ba52e0b310a"
      },
      "outputs": [
        {
          "output_type": "stream",
          "name": "stdout",
          "text": [
            "Dimensiones : 2935849 filas, 10 columnas\n",
            "Total Valores NA : 0 \n",
            "                        Nombre Columna Tipo de Dato     #Distintos Valores NA\n",
            "                                  date datetime64[ns]         1034          0\n",
            "                        date_block_num      int32           34          0\n",
            "                               shop_id      int32           60          0\n",
            "                               item_id      int32        21807          0\n",
            "                            item_price    float32        19992          0\n",
            "                          item_cnt_day      int32          198          0\n",
            "                             item_name     object        21807          0\n",
            "                      item_category_id      int32           84          0\n",
            "                             shop_name     object           60          0\n",
            "                    item_category_name     object           84          0\n"
          ]
        }
      ],
      "source": [
        "#Análisis exploratorio inicial - se encuentran 2935849 de observaciones por 10 columnas de trabajo sin valores de tipo NAN.\n",
        "def inicio_EDA(df):\n",
        "    if isinstance(df, pd.DataFrame):\n",
        "        total_na = df.isna().sum().sum()\n",
        "        print(\"Dimensiones : %d filas, %d columnas\" % (df.shape[0], df.shape[1]))\n",
        "        print(\"Total Valores NA : %d \" % (total_na))\n",
        "        print(\"%38s %10s     %10s %10s\" % (\"Nombre Columna\", \"Tipo de Dato\", \"#Distintos\", \"Valores NA\"))\n",
        "        col_name = df.columns\n",
        "        dtyp = df.dtypes\n",
        "        uniq = df.nunique()\n",
        "        na_val = df.isna().sum()\n",
        "        for i in range(len(df.columns)):\n",
        "            print(\"%38s %10s   %10s %10s\" % (col_name[i], dtyp[i], uniq[i], na_val[i]))\n",
        "        \n",
        "    else:\n",
        "        print(\"Se esperaba dataframe %15s\" % (type(df)))\n",
        "\n",
        "       \n",
        "inicio_EDA(train)"
      ]
    },
    {
      "cell_type": "code",
      "execution_count": 9,
      "id": "76a5376b-255c-4e0e-bca6-6f36a614bfc8",
      "metadata": {
        "colab": {
          "base_uri": "https://localhost:8080/",
          "height": 235
        },
        "id": "76a5376b-255c-4e0e-bca6-6f36a614bfc8",
        "outputId": "1dd0d4a2-4800-448a-a66a-72d93922e4fe"
      },
      "outputs": [
        {
          "output_type": "execute_result",
          "data": {
            "text/html": [
              "\n",
              "  <div id=\"df-eb431e3c-b1bf-4875-8c7e-f18915c7f1b5\">\n",
              "    <div class=\"colab-df-container\">\n",
              "      <div>\n",
              "<style scoped>\n",
              "    .dataframe tbody tr th:only-of-type {\n",
              "        vertical-align: middle;\n",
              "    }\n",
              "\n",
              "    .dataframe tbody tr th {\n",
              "        vertical-align: top;\n",
              "    }\n",
              "\n",
              "    .dataframe thead th {\n",
              "        text-align: right;\n",
              "    }\n",
              "</style>\n",
              "<table border=\"1\" class=\"dataframe\">\n",
              "  <thead>\n",
              "    <tr style=\"text-align: right;\">\n",
              "      <th></th>\n",
              "      <th>count</th>\n",
              "      <th>mean</th>\n",
              "      <th>std</th>\n",
              "      <th>min</th>\n",
              "      <th>25%</th>\n",
              "      <th>50%</th>\n",
              "      <th>75%</th>\n",
              "      <th>max</th>\n",
              "    </tr>\n",
              "  </thead>\n",
              "  <tbody>\n",
              "    <tr>\n",
              "      <th>date_block_num</th>\n",
              "      <td>2935849.00</td>\n",
              "      <td>14.57</td>\n",
              "      <td>9.42</td>\n",
              "      <td>0.00</td>\n",
              "      <td>7.00</td>\n",
              "      <td>14.00</td>\n",
              "      <td>23.00</td>\n",
              "      <td>33.00</td>\n",
              "    </tr>\n",
              "    <tr>\n",
              "      <th>shop_id</th>\n",
              "      <td>2935849.00</td>\n",
              "      <td>33.00</td>\n",
              "      <td>16.23</td>\n",
              "      <td>0.00</td>\n",
              "      <td>22.00</td>\n",
              "      <td>31.00</td>\n",
              "      <td>47.00</td>\n",
              "      <td>59.00</td>\n",
              "    </tr>\n",
              "    <tr>\n",
              "      <th>item_id</th>\n",
              "      <td>2935849.00</td>\n",
              "      <td>10197.23</td>\n",
              "      <td>6324.30</td>\n",
              "      <td>0.00</td>\n",
              "      <td>4476.00</td>\n",
              "      <td>9343.00</td>\n",
              "      <td>15684.00</td>\n",
              "      <td>22169.00</td>\n",
              "    </tr>\n",
              "    <tr>\n",
              "      <th>item_price</th>\n",
              "      <td>2935849.00</td>\n",
              "      <td>890.62</td>\n",
              "      <td>1726.44</td>\n",
              "      <td>-1.00</td>\n",
              "      <td>249.00</td>\n",
              "      <td>399.00</td>\n",
              "      <td>999.00</td>\n",
              "      <td>307980.00</td>\n",
              "    </tr>\n",
              "    <tr>\n",
              "      <th>item_cnt_day</th>\n",
              "      <td>2935849.00</td>\n",
              "      <td>1.24</td>\n",
              "      <td>2.62</td>\n",
              "      <td>-22.00</td>\n",
              "      <td>1.00</td>\n",
              "      <td>1.00</td>\n",
              "      <td>1.00</td>\n",
              "      <td>2169.00</td>\n",
              "    </tr>\n",
              "    <tr>\n",
              "      <th>item_category_id</th>\n",
              "      <td>2935849.00</td>\n",
              "      <td>40.00</td>\n",
              "      <td>17.10</td>\n",
              "      <td>0.00</td>\n",
              "      <td>28.00</td>\n",
              "      <td>40.00</td>\n",
              "      <td>55.00</td>\n",
              "      <td>83.00</td>\n",
              "    </tr>\n",
              "  </tbody>\n",
              "</table>\n",
              "</div>\n",
              "      <button class=\"colab-df-convert\" onclick=\"convertToInteractive('df-eb431e3c-b1bf-4875-8c7e-f18915c7f1b5')\"\n",
              "              title=\"Convert this dataframe to an interactive table.\"\n",
              "              style=\"display:none;\">\n",
              "        \n",
              "  <svg xmlns=\"http://www.w3.org/2000/svg\" height=\"24px\"viewBox=\"0 0 24 24\"\n",
              "       width=\"24px\">\n",
              "    <path d=\"M0 0h24v24H0V0z\" fill=\"none\"/>\n",
              "    <path d=\"M18.56 5.44l.94 2.06.94-2.06 2.06-.94-2.06-.94-.94-2.06-.94 2.06-2.06.94zm-11 1L8.5 8.5l.94-2.06 2.06-.94-2.06-.94L8.5 2.5l-.94 2.06-2.06.94zm10 10l.94 2.06.94-2.06 2.06-.94-2.06-.94-.94-2.06-.94 2.06-2.06.94z\"/><path d=\"M17.41 7.96l-1.37-1.37c-.4-.4-.92-.59-1.43-.59-.52 0-1.04.2-1.43.59L10.3 9.45l-7.72 7.72c-.78.78-.78 2.05 0 2.83L4 21.41c.39.39.9.59 1.41.59.51 0 1.02-.2 1.41-.59l7.78-7.78 2.81-2.81c.8-.78.8-2.07 0-2.86zM5.41 20L4 18.59l7.72-7.72 1.47 1.35L5.41 20z\"/>\n",
              "  </svg>\n",
              "      </button>\n",
              "      \n",
              "  <style>\n",
              "    .colab-df-container {\n",
              "      display:flex;\n",
              "      flex-wrap:wrap;\n",
              "      gap: 12px;\n",
              "    }\n",
              "\n",
              "    .colab-df-convert {\n",
              "      background-color: #E8F0FE;\n",
              "      border: none;\n",
              "      border-radius: 50%;\n",
              "      cursor: pointer;\n",
              "      display: none;\n",
              "      fill: #1967D2;\n",
              "      height: 32px;\n",
              "      padding: 0 0 0 0;\n",
              "      width: 32px;\n",
              "    }\n",
              "\n",
              "    .colab-df-convert:hover {\n",
              "      background-color: #E2EBFA;\n",
              "      box-shadow: 0px 1px 2px rgba(60, 64, 67, 0.3), 0px 1px 3px 1px rgba(60, 64, 67, 0.15);\n",
              "      fill: #174EA6;\n",
              "    }\n",
              "\n",
              "    [theme=dark] .colab-df-convert {\n",
              "      background-color: #3B4455;\n",
              "      fill: #D2E3FC;\n",
              "    }\n",
              "\n",
              "    [theme=dark] .colab-df-convert:hover {\n",
              "      background-color: #434B5C;\n",
              "      box-shadow: 0px 1px 3px 1px rgba(0, 0, 0, 0.15);\n",
              "      filter: drop-shadow(0px 1px 2px rgba(0, 0, 0, 0.3));\n",
              "      fill: #FFFFFF;\n",
              "    }\n",
              "  </style>\n",
              "\n",
              "      <script>\n",
              "        const buttonEl =\n",
              "          document.querySelector('#df-eb431e3c-b1bf-4875-8c7e-f18915c7f1b5 button.colab-df-convert');\n",
              "        buttonEl.style.display =\n",
              "          google.colab.kernel.accessAllowed ? 'block' : 'none';\n",
              "\n",
              "        async function convertToInteractive(key) {\n",
              "          const element = document.querySelector('#df-eb431e3c-b1bf-4875-8c7e-f18915c7f1b5');\n",
              "          const dataTable =\n",
              "            await google.colab.kernel.invokeFunction('convertToInteractive',\n",
              "                                                     [key], {});\n",
              "          if (!dataTable) return;\n",
              "\n",
              "          const docLinkHtml = 'Like what you see? Visit the ' +\n",
              "            '<a target=\"_blank\" href=https://colab.research.google.com/notebooks/data_table.ipynb>data table notebook</a>'\n",
              "            + ' to learn more about interactive tables.';\n",
              "          element.innerHTML = '';\n",
              "          dataTable['output_type'] = 'display_data';\n",
              "          await google.colab.output.renderOutput(dataTable, element);\n",
              "          const docLink = document.createElement('div');\n",
              "          docLink.innerHTML = docLinkHtml;\n",
              "          element.appendChild(docLink);\n",
              "        }\n",
              "      </script>\n",
              "    </div>\n",
              "  </div>\n",
              "  "
            ],
            "text/plain": [
              "                      count     mean     std  ...     50%      75%       max\n",
              "date_block_num   2935849.00    14.57    9.42  ...   14.00    23.00     33.00\n",
              "shop_id          2935849.00    33.00   16.23  ...   31.00    47.00     59.00\n",
              "item_id          2935849.00 10197.23 6324.30  ... 9343.00 15684.00  22169.00\n",
              "item_price       2935849.00   890.62 1726.44  ...  399.00   999.00 307980.00\n",
              "item_cnt_day     2935849.00     1.24    2.62  ...    1.00     1.00   2169.00\n",
              "item_category_id 2935849.00    40.00   17.10  ...   40.00    55.00     83.00\n",
              "\n",
              "[6 rows x 8 columns]"
            ]
          },
          "metadata": {},
          "execution_count": 9
        }
      ],
      "source": [
        "##Aplicando la estadística inicial de tendencia central vemos que semeja una distribución interesante para revisar\n",
        "##posteriormente en gráficas.\n",
        "train.describe().T"
      ]
    },
    {
      "cell_type": "code",
      "execution_count": 10,
      "id": "bf56e9fb-104b-4fd2-bdaf-2b83cf3ea282",
      "metadata": {
        "colab": {
          "base_uri": "https://localhost:8080/",
          "height": 0
        },
        "id": "bf56e9fb-104b-4fd2-bdaf-2b83cf3ea282",
        "outputId": "2261a6b2-347f-4103-eb12-fb74a33a42e6"
      },
      "outputs": [
        {
          "output_type": "stream",
          "name": "stdout",
          "text": [
            "Fecha mínima para el set de entrenamiento: 2013-01-01\n",
            "Fecha Máxima para el set de entrenamiento: 2015-12-10\n"
          ]
        }
      ],
      "source": [
        "###Periodo de las mediciones\n",
        "print('Fecha mínima para el set de entrenamiento: %s' % train['date'].min().date())\n",
        "print('Fecha Máxima para el set de entrenamiento: %s' % train['date'].max().date())"
      ]
    },
    {
      "cell_type": "code",
      "execution_count": 11,
      "id": "bb0e66bc-4abf-4828-a48f-330b86e599d4",
      "metadata": {
        "id": "bb0e66bc-4abf-4828-a48f-330b86e599d4"
      },
      "outputs": [],
      "source": [
        "##Reducción de dimensionalidad cruzando los datos con los existentes en test\n",
        "##Por medio de Shop_id e item_id\n",
        "test_shop_ids = test['shop_id'].unique()\n",
        "test_item_ids = test['item_id'].unique()\n",
        "\n",
        "new_train = train[train['shop_id'].isin(test_shop_ids)]\n",
        "\n",
        "new_train = new_train[new_train['item_id'].isin(test_item_ids)]"
      ]
    },
    {
      "cell_type": "code",
      "execution_count": 12,
      "id": "e98cb760-5520-4496-b857-c8c410e0b011",
      "metadata": {
        "colab": {
          "base_uri": "https://localhost:8080/",
          "height": 0
        },
        "id": "e98cb760-5520-4496-b857-c8c410e0b011",
        "outputId": "18f81374-5681-4bce-a76a-6b7c221f601f"
      },
      "outputs": [
        {
          "output_type": "stream",
          "name": "stdout",
          "text": [
            "Tamaño Inicial de Dataframe: 2935849\n",
            "Tamaño Final de Dataframe: 1224439\n"
          ]
        }
      ],
      "source": [
        "##Comparativa antes y después de la reducción de dimensiones por medio de Id's\n",
        "print('Tamaño Inicial de Dataframe:', train.shape[0])\n",
        "print('Tamaño Final de Dataframe:', new_train.shape[0])"
      ]
    },
    {
      "cell_type": "code",
      "execution_count": 13,
      "id": "461e5ea0-457e-4f43-88f1-b6b9b32789e6",
      "metadata": {
        "colab": {
          "base_uri": "https://localhost:8080/",
          "height": 355
        },
        "id": "461e5ea0-457e-4f43-88f1-b6b9b32789e6",
        "outputId": "7caadf04-51fc-4586-e005-43279a59cd18"
      },
      "outputs": [
        {
          "output_type": "execute_result",
          "data": {
            "text/html": [
              "\n",
              "  <div id=\"df-e748474c-cbf8-4c25-a173-68c2be5ab69d\">\n",
              "    <div class=\"colab-df-container\">\n",
              "      <div>\n",
              "<style scoped>\n",
              "    .dataframe tbody tr th:only-of-type {\n",
              "        vertical-align: middle;\n",
              "    }\n",
              "\n",
              "    .dataframe tbody tr th {\n",
              "        vertical-align: top;\n",
              "    }\n",
              "\n",
              "    .dataframe thead th {\n",
              "        text-align: right;\n",
              "    }\n",
              "</style>\n",
              "<table border=\"1\" class=\"dataframe\">\n",
              "  <thead>\n",
              "    <tr style=\"text-align: right;\">\n",
              "      <th></th>\n",
              "      <th>date</th>\n",
              "      <th>date_block_num</th>\n",
              "      <th>shop_id</th>\n",
              "      <th>item_id</th>\n",
              "      <th>item_price</th>\n",
              "      <th>item_cnt_day</th>\n",
              "      <th>item_name</th>\n",
              "      <th>item_category_id</th>\n",
              "      <th>shop_name</th>\n",
              "      <th>item_category_name</th>\n",
              "    </tr>\n",
              "  </thead>\n",
              "  <tbody>\n",
              "    <tr>\n",
              "      <th>0</th>\n",
              "      <td>2013-02-01</td>\n",
              "      <td>0</td>\n",
              "      <td>59</td>\n",
              "      <td>22154</td>\n",
              "      <td>999.00</td>\n",
              "      <td>1</td>\n",
              "      <td>ЯВЛЕНИЕ 2012 (BD)</td>\n",
              "      <td>37</td>\n",
              "      <td>Ярославль ТЦ \"Альтаир\"</td>\n",
              "      <td>Кино - Blu-Ray</td>\n",
              "    </tr>\n",
              "    <tr>\n",
              "      <th>1</th>\n",
              "      <td>2013-03-01</td>\n",
              "      <td>0</td>\n",
              "      <td>25</td>\n",
              "      <td>2552</td>\n",
              "      <td>899.00</td>\n",
              "      <td>1</td>\n",
              "      <td>DEEP PURPLE  The House Of Blue Light  LP</td>\n",
              "      <td>58</td>\n",
              "      <td>Москва ТРК \"Атриум\"</td>\n",
              "      <td>Музыка - Винил</td>\n",
              "    </tr>\n",
              "    <tr>\n",
              "      <th>2</th>\n",
              "      <td>2013-05-01</td>\n",
              "      <td>0</td>\n",
              "      <td>25</td>\n",
              "      <td>2552</td>\n",
              "      <td>899.00</td>\n",
              "      <td>-1</td>\n",
              "      <td>DEEP PURPLE  The House Of Blue Light  LP</td>\n",
              "      <td>58</td>\n",
              "      <td>Москва ТРК \"Атриум\"</td>\n",
              "      <td>Музыка - Винил</td>\n",
              "    </tr>\n",
              "    <tr>\n",
              "      <th>3</th>\n",
              "      <td>2013-06-01</td>\n",
              "      <td>0</td>\n",
              "      <td>25</td>\n",
              "      <td>2554</td>\n",
              "      <td>1709.05</td>\n",
              "      <td>1</td>\n",
              "      <td>DEEP PURPLE  Who Do You Think We Are  LP</td>\n",
              "      <td>58</td>\n",
              "      <td>Москва ТРК \"Атриум\"</td>\n",
              "      <td>Музыка - Винил</td>\n",
              "    </tr>\n",
              "    <tr>\n",
              "      <th>4</th>\n",
              "      <td>2013-01-15</td>\n",
              "      <td>0</td>\n",
              "      <td>25</td>\n",
              "      <td>2555</td>\n",
              "      <td>1099.00</td>\n",
              "      <td>1</td>\n",
              "      <td>DEEP PURPLE 30 Very Best Of 2CD (Фирм.)</td>\n",
              "      <td>56</td>\n",
              "      <td>Москва ТРК \"Атриум\"</td>\n",
              "      <td>Музыка - CD фирменного производства</td>\n",
              "    </tr>\n",
              "  </tbody>\n",
              "</table>\n",
              "</div>\n",
              "      <button class=\"colab-df-convert\" onclick=\"convertToInteractive('df-e748474c-cbf8-4c25-a173-68c2be5ab69d')\"\n",
              "              title=\"Convert this dataframe to an interactive table.\"\n",
              "              style=\"display:none;\">\n",
              "        \n",
              "  <svg xmlns=\"http://www.w3.org/2000/svg\" height=\"24px\"viewBox=\"0 0 24 24\"\n",
              "       width=\"24px\">\n",
              "    <path d=\"M0 0h24v24H0V0z\" fill=\"none\"/>\n",
              "    <path d=\"M18.56 5.44l.94 2.06.94-2.06 2.06-.94-2.06-.94-.94-2.06-.94 2.06-2.06.94zm-11 1L8.5 8.5l.94-2.06 2.06-.94-2.06-.94L8.5 2.5l-.94 2.06-2.06.94zm10 10l.94 2.06.94-2.06 2.06-.94-2.06-.94-.94-2.06-.94 2.06-2.06.94z\"/><path d=\"M17.41 7.96l-1.37-1.37c-.4-.4-.92-.59-1.43-.59-.52 0-1.04.2-1.43.59L10.3 9.45l-7.72 7.72c-.78.78-.78 2.05 0 2.83L4 21.41c.39.39.9.59 1.41.59.51 0 1.02-.2 1.41-.59l7.78-7.78 2.81-2.81c.8-.78.8-2.07 0-2.86zM5.41 20L4 18.59l7.72-7.72 1.47 1.35L5.41 20z\"/>\n",
              "  </svg>\n",
              "      </button>\n",
              "      \n",
              "  <style>\n",
              "    .colab-df-container {\n",
              "      display:flex;\n",
              "      flex-wrap:wrap;\n",
              "      gap: 12px;\n",
              "    }\n",
              "\n",
              "    .colab-df-convert {\n",
              "      background-color: #E8F0FE;\n",
              "      border: none;\n",
              "      border-radius: 50%;\n",
              "      cursor: pointer;\n",
              "      display: none;\n",
              "      fill: #1967D2;\n",
              "      height: 32px;\n",
              "      padding: 0 0 0 0;\n",
              "      width: 32px;\n",
              "    }\n",
              "\n",
              "    .colab-df-convert:hover {\n",
              "      background-color: #E2EBFA;\n",
              "      box-shadow: 0px 1px 2px rgba(60, 64, 67, 0.3), 0px 1px 3px 1px rgba(60, 64, 67, 0.15);\n",
              "      fill: #174EA6;\n",
              "    }\n",
              "\n",
              "    [theme=dark] .colab-df-convert {\n",
              "      background-color: #3B4455;\n",
              "      fill: #D2E3FC;\n",
              "    }\n",
              "\n",
              "    [theme=dark] .colab-df-convert:hover {\n",
              "      background-color: #434B5C;\n",
              "      box-shadow: 0px 1px 3px 1px rgba(0, 0, 0, 0.15);\n",
              "      filter: drop-shadow(0px 1px 2px rgba(0, 0, 0, 0.3));\n",
              "      fill: #FFFFFF;\n",
              "    }\n",
              "  </style>\n",
              "\n",
              "      <script>\n",
              "        const buttonEl =\n",
              "          document.querySelector('#df-e748474c-cbf8-4c25-a173-68c2be5ab69d button.colab-df-convert');\n",
              "        buttonEl.style.display =\n",
              "          google.colab.kernel.accessAllowed ? 'block' : 'none';\n",
              "\n",
              "        async function convertToInteractive(key) {\n",
              "          const element = document.querySelector('#df-e748474c-cbf8-4c25-a173-68c2be5ab69d');\n",
              "          const dataTable =\n",
              "            await google.colab.kernel.invokeFunction('convertToInteractive',\n",
              "                                                     [key], {});\n",
              "          if (!dataTable) return;\n",
              "\n",
              "          const docLinkHtml = 'Like what you see? Visit the ' +\n",
              "            '<a target=\"_blank\" href=https://colab.research.google.com/notebooks/data_table.ipynb>data table notebook</a>'\n",
              "            + ' to learn more about interactive tables.';\n",
              "          element.innerHTML = '';\n",
              "          dataTable['output_type'] = 'display_data';\n",
              "          await google.colab.output.renderOutput(dataTable, element);\n",
              "          const docLink = document.createElement('div');\n",
              "          docLink.innerHTML = docLinkHtml;\n",
              "          element.appendChild(docLink);\n",
              "        }\n",
              "      </script>\n",
              "    </div>\n",
              "  </div>\n",
              "  "
            ],
            "text/plain": [
              "        date  ...                   item_category_name\n",
              "0 2013-02-01  ...                       Кино - Blu-Ray\n",
              "1 2013-03-01  ...                       Музыка - Винил\n",
              "2 2013-05-01  ...                       Музыка - Винил\n",
              "3 2013-06-01  ...                       Музыка - Винил\n",
              "4 2013-01-15  ...  Музыка - CD фирменного производства\n",
              "\n",
              "[5 rows x 10 columns]"
            ]
          },
          "metadata": {},
          "execution_count": 13
        }
      ],
      "source": [
        "##Se modificará solo los items mayores a cero\n",
        "train = train.query('item_price > 0')\n",
        "\n",
        "train.head()"
      ]
    },
    {
      "cell_type": "code",
      "execution_count": 14,
      "id": "5b8eb3e4-511e-4a44-89f6-f93f3b01a807",
      "metadata": {
        "id": "5b8eb3e4-511e-4a44-89f6-f93f3b01a807"
      },
      "outputs": [],
      "source": [
        "##Se determinan las variables más importantes para trabajar\n",
        "train_mensual = new_train[['date', 'date_block_num', \n",
        "                           'shop_id', 'item_category_id', 'item_id', 'item_price', 'item_cnt_day']]"
      ]
    },
    {
      "cell_type": "code",
      "execution_count": 15,
      "id": "1359bc60-4180-4505-b3ea-f340ce890a5a",
      "metadata": {
        "id": "1359bc60-4180-4505-b3ea-f340ce890a5a"
      },
      "outputs": [],
      "source": [
        "##Se agrupa por mes, en este caso date_block_num y se agregan las demás características\n",
        "train_mensual = train_mensual.sort_values('date').groupby(['date_block_num', 'shop_id', 'item_category_id', 'item_id'], as_index=False)\n",
        "\n",
        "train_mensual = train_mensual.agg({'item_price':['sum', 'mean'], 'item_cnt_day':['sum', 'mean','count']})\n",
        "\n",
        "train_mensual.columns = ['date_block_num', 'shop_id', 'item_category_id', 'item_id', 'item_price', 'mean_item_price', 'item_cnt', 'mean_item_cnt', 'transactions']"
      ]
    },
    {
      "cell_type": "code",
      "execution_count": 16,
      "id": "72b0621b-6d28-4115-8a05-8f32d9603998",
      "metadata": {
        "id": "72b0621b-6d28-4115-8a05-8f32d9603998"
      },
      "outputs": [],
      "source": [
        "##Se procede a crear un dataframe con todas las combinaciones posibles\n",
        "##Utilizando el shop_id, item_id para posteriormente fusionar con el dataframe train_mensual\n",
        "shop_ids = train_mensual['shop_id'].unique()\n",
        "item_ids = train_mensual['item_id'].unique()\n",
        "empty_df = []\n",
        "for i in range(34):\n",
        "    for shop in shop_ids:\n",
        "        for item in item_ids:\n",
        "            empty_df.append([i, shop, item])\n",
        "    \n",
        "data_complementario = pd.DataFrame(empty_df, columns=['date_block_num','shop_id','item_id'])"
      ]
    },
    {
      "cell_type": "code",
      "execution_count": 17,
      "id": "f2051a67-5299-42bc-a420-cddd8339eb5a",
      "metadata": {
        "id": "f2051a67-5299-42bc-a420-cddd8339eb5a"
      },
      "outputs": [],
      "source": [
        "##Se unen los dos dataframes para complementar la información inicial\n",
        "train_mensual = pd.merge(data_complementario, train_mensual, on=['date_block_num','shop_id','item_id'], how='left')\n",
        "train_mensual.fillna(0, inplace=True)"
      ]
    },
    {
      "cell_type": "code",
      "execution_count": 18,
      "id": "0be1e887-71ba-4cdc-9f33-f42d2eaea28f",
      "metadata": {
        "colab": {
          "base_uri": "https://localhost:8080/",
          "height": 0
        },
        "id": "0be1e887-71ba-4cdc-9f33-f42d2eaea28f",
        "outputId": "e9ec4ab6-0a17-4ac4-a2a6-236d128ae851"
      },
      "outputs": [
        {
          "output_type": "stream",
          "name": "stdout",
          "text": [
            "Dimensiones : 6734448 filas, 9 columnas\n",
            "Total Valores NA : 0 \n",
            "                        Nombre Columna Tipo de Dato     #Distintos Valores NA\n",
            "                        date_block_num      int64           34          0\n",
            "                               shop_id      int64           42          0\n",
            "                               item_id      int64         4716          0\n",
            "                      item_category_id    float64           61          0\n",
            "                            item_price    float32        26489          0\n",
            "                       mean_item_price    float32        22785          0\n",
            "                              item_cnt    float64          387          0\n",
            "                         mean_item_cnt    float64         1435          0\n",
            "                          transactions    float64           32          0\n"
          ]
        }
      ],
      "source": [
        "###Se realiza una nueva revisión\n",
        "inicio_EDA(train_mensual)"
      ]
    },
    {
      "cell_type": "code",
      "execution_count": 19,
      "id": "50ed1d42-84d2-447f-b01a-be2032695e83",
      "metadata": {
        "colab": {
          "base_uri": "https://localhost:8080/",
          "height": 328
        },
        "id": "50ed1d42-84d2-447f-b01a-be2032695e83",
        "outputId": "2361bf1f-81d3-4ca1-e602-8c1c4e77603a"
      },
      "outputs": [
        {
          "output_type": "execute_result",
          "data": {
            "text/html": [
              "\n",
              "  <div id=\"df-3a94dba2-ba60-4ba2-a39e-1f8997a3c57e\">\n",
              "    <div class=\"colab-df-container\">\n",
              "      <div>\n",
              "<style scoped>\n",
              "    .dataframe tbody tr th:only-of-type {\n",
              "        vertical-align: middle;\n",
              "    }\n",
              "\n",
              "    .dataframe tbody tr th {\n",
              "        vertical-align: top;\n",
              "    }\n",
              "\n",
              "    .dataframe thead th {\n",
              "        text-align: right;\n",
              "    }\n",
              "</style>\n",
              "<table border=\"1\" class=\"dataframe\">\n",
              "  <thead>\n",
              "    <tr style=\"text-align: right;\">\n",
              "      <th></th>\n",
              "      <th>count</th>\n",
              "      <th>mean</th>\n",
              "      <th>std</th>\n",
              "      <th>min</th>\n",
              "      <th>25%</th>\n",
              "      <th>50%</th>\n",
              "      <th>75%</th>\n",
              "      <th>max</th>\n",
              "    </tr>\n",
              "  </thead>\n",
              "  <tbody>\n",
              "    <tr>\n",
              "      <th>date_block_num</th>\n",
              "      <td>6734448.00</td>\n",
              "      <td>16.50</td>\n",
              "      <td>9.81</td>\n",
              "      <td>0.00</td>\n",
              "      <td>8.00</td>\n",
              "      <td>16.50</td>\n",
              "      <td>25.00</td>\n",
              "      <td>33.00</td>\n",
              "    </tr>\n",
              "    <tr>\n",
              "      <th>shop_id</th>\n",
              "      <td>6734448.00</td>\n",
              "      <td>31.64</td>\n",
              "      <td>17.56</td>\n",
              "      <td>2.00</td>\n",
              "      <td>16.00</td>\n",
              "      <td>34.50</td>\n",
              "      <td>47.00</td>\n",
              "      <td>59.00</td>\n",
              "    </tr>\n",
              "    <tr>\n",
              "      <th>item_id</th>\n",
              "      <td>6734448.00</td>\n",
              "      <td>11041.89</td>\n",
              "      <td>6210.74</td>\n",
              "      <td>30.00</td>\n",
              "      <td>5385.25</td>\n",
              "      <td>11265.50</td>\n",
              "      <td>16068.25</td>\n",
              "      <td>22167.00</td>\n",
              "    </tr>\n",
              "    <tr>\n",
              "      <th>item_category_id</th>\n",
              "      <td>6734448.00</td>\n",
              "      <td>3.79</td>\n",
              "      <td>13.21</td>\n",
              "      <td>0.00</td>\n",
              "      <td>0.00</td>\n",
              "      <td>0.00</td>\n",
              "      <td>0.00</td>\n",
              "      <td>83.00</td>\n",
              "    </tr>\n",
              "    <tr>\n",
              "      <th>item_price</th>\n",
              "      <td>6734448.00</td>\n",
              "      <td>187.35</td>\n",
              "      <td>2171.80</td>\n",
              "      <td>0.00</td>\n",
              "      <td>0.00</td>\n",
              "      <td>0.00</td>\n",
              "      <td>0.00</td>\n",
              "      <td>515573.59</td>\n",
              "    </tr>\n",
              "    <tr>\n",
              "      <th>mean_item_price</th>\n",
              "      <td>6734448.00</td>\n",
              "      <td>81.13</td>\n",
              "      <td>531.16</td>\n",
              "      <td>0.00</td>\n",
              "      <td>0.00</td>\n",
              "      <td>0.00</td>\n",
              "      <td>0.00</td>\n",
              "      <td>42990.00</td>\n",
              "    </tr>\n",
              "    <tr>\n",
              "      <th>item_cnt</th>\n",
              "      <td>6734448.00</td>\n",
              "      <td>0.24</td>\n",
              "      <td>3.46</td>\n",
              "      <td>-4.00</td>\n",
              "      <td>0.00</td>\n",
              "      <td>0.00</td>\n",
              "      <td>0.00</td>\n",
              "      <td>2253.00</td>\n",
              "    </tr>\n",
              "    <tr>\n",
              "      <th>mean_item_cnt</th>\n",
              "      <td>6734448.00</td>\n",
              "      <td>0.10</td>\n",
              "      <td>0.61</td>\n",
              "      <td>-2.00</td>\n",
              "      <td>0.00</td>\n",
              "      <td>0.00</td>\n",
              "      <td>0.00</td>\n",
              "      <td>1000.00</td>\n",
              "    </tr>\n",
              "    <tr>\n",
              "      <th>transactions</th>\n",
              "      <td>6734448.00</td>\n",
              "      <td>0.18</td>\n",
              "      <td>0.90</td>\n",
              "      <td>0.00</td>\n",
              "      <td>0.00</td>\n",
              "      <td>0.00</td>\n",
              "      <td>0.00</td>\n",
              "      <td>31.00</td>\n",
              "    </tr>\n",
              "  </tbody>\n",
              "</table>\n",
              "</div>\n",
              "      <button class=\"colab-df-convert\" onclick=\"convertToInteractive('df-3a94dba2-ba60-4ba2-a39e-1f8997a3c57e')\"\n",
              "              title=\"Convert this dataframe to an interactive table.\"\n",
              "              style=\"display:none;\">\n",
              "        \n",
              "  <svg xmlns=\"http://www.w3.org/2000/svg\" height=\"24px\"viewBox=\"0 0 24 24\"\n",
              "       width=\"24px\">\n",
              "    <path d=\"M0 0h24v24H0V0z\" fill=\"none\"/>\n",
              "    <path d=\"M18.56 5.44l.94 2.06.94-2.06 2.06-.94-2.06-.94-.94-2.06-.94 2.06-2.06.94zm-11 1L8.5 8.5l.94-2.06 2.06-.94-2.06-.94L8.5 2.5l-.94 2.06-2.06.94zm10 10l.94 2.06.94-2.06 2.06-.94-2.06-.94-.94-2.06-.94 2.06-2.06.94z\"/><path d=\"M17.41 7.96l-1.37-1.37c-.4-.4-.92-.59-1.43-.59-.52 0-1.04.2-1.43.59L10.3 9.45l-7.72 7.72c-.78.78-.78 2.05 0 2.83L4 21.41c.39.39.9.59 1.41.59.51 0 1.02-.2 1.41-.59l7.78-7.78 2.81-2.81c.8-.78.8-2.07 0-2.86zM5.41 20L4 18.59l7.72-7.72 1.47 1.35L5.41 20z\"/>\n",
              "  </svg>\n",
              "      </button>\n",
              "      \n",
              "  <style>\n",
              "    .colab-df-container {\n",
              "      display:flex;\n",
              "      flex-wrap:wrap;\n",
              "      gap: 12px;\n",
              "    }\n",
              "\n",
              "    .colab-df-convert {\n",
              "      background-color: #E8F0FE;\n",
              "      border: none;\n",
              "      border-radius: 50%;\n",
              "      cursor: pointer;\n",
              "      display: none;\n",
              "      fill: #1967D2;\n",
              "      height: 32px;\n",
              "      padding: 0 0 0 0;\n",
              "      width: 32px;\n",
              "    }\n",
              "\n",
              "    .colab-df-convert:hover {\n",
              "      background-color: #E2EBFA;\n",
              "      box-shadow: 0px 1px 2px rgba(60, 64, 67, 0.3), 0px 1px 3px 1px rgba(60, 64, 67, 0.15);\n",
              "      fill: #174EA6;\n",
              "    }\n",
              "\n",
              "    [theme=dark] .colab-df-convert {\n",
              "      background-color: #3B4455;\n",
              "      fill: #D2E3FC;\n",
              "    }\n",
              "\n",
              "    [theme=dark] .colab-df-convert:hover {\n",
              "      background-color: #434B5C;\n",
              "      box-shadow: 0px 1px 3px 1px rgba(0, 0, 0, 0.15);\n",
              "      filter: drop-shadow(0px 1px 2px rgba(0, 0, 0, 0.3));\n",
              "      fill: #FFFFFF;\n",
              "    }\n",
              "  </style>\n",
              "\n",
              "      <script>\n",
              "        const buttonEl =\n",
              "          document.querySelector('#df-3a94dba2-ba60-4ba2-a39e-1f8997a3c57e button.colab-df-convert');\n",
              "        buttonEl.style.display =\n",
              "          google.colab.kernel.accessAllowed ? 'block' : 'none';\n",
              "\n",
              "        async function convertToInteractive(key) {\n",
              "          const element = document.querySelector('#df-3a94dba2-ba60-4ba2-a39e-1f8997a3c57e');\n",
              "          const dataTable =\n",
              "            await google.colab.kernel.invokeFunction('convertToInteractive',\n",
              "                                                     [key], {});\n",
              "          if (!dataTable) return;\n",
              "\n",
              "          const docLinkHtml = 'Like what you see? Visit the ' +\n",
              "            '<a target=\"_blank\" href=https://colab.research.google.com/notebooks/data_table.ipynb>data table notebook</a>'\n",
              "            + ' to learn more about interactive tables.';\n",
              "          element.innerHTML = '';\n",
              "          dataTable['output_type'] = 'display_data';\n",
              "          await google.colab.output.renderOutput(dataTable, element);\n",
              "          const docLink = document.createElement('div');\n",
              "          docLink.innerHTML = docLinkHtml;\n",
              "          element.appendChild(docLink);\n",
              "        }\n",
              "      </script>\n",
              "    </div>\n",
              "  </div>\n",
              "  "
            ],
            "text/plain": [
              "                      count     mean     std  ...      50%      75%       max\n",
              "date_block_num   6734448.00    16.50    9.81  ...    16.50    25.00     33.00\n",
              "shop_id          6734448.00    31.64   17.56  ...    34.50    47.00     59.00\n",
              "item_id          6734448.00 11041.89 6210.74  ... 11265.50 16068.25  22167.00\n",
              "item_category_id 6734448.00     3.79   13.21  ...     0.00     0.00     83.00\n",
              "item_price       6734448.00   187.35 2171.80  ...     0.00     0.00 515573.59\n",
              "mean_item_price  6734448.00    81.13  531.16  ...     0.00     0.00  42990.00\n",
              "item_cnt         6734448.00     0.24    3.46  ...     0.00     0.00   2253.00\n",
              "mean_item_cnt    6734448.00     0.10    0.61  ...     0.00     0.00   1000.00\n",
              "transactions     6734448.00     0.18    0.90  ...     0.00     0.00     31.00\n",
              "\n",
              "[9 rows x 8 columns]"
            ]
          },
          "metadata": {},
          "execution_count": 19
        }
      ],
      "source": [
        "train_mensual.describe().T"
      ]
    },
    {
      "cell_type": "code",
      "execution_count": 20,
      "id": "ac72ac94-5a04-4b3e-9c7b-87e9a3eabd62",
      "metadata": {
        "id": "ac72ac94-5a04-4b3e-9c7b-87e9a3eabd62"
      },
      "outputs": [],
      "source": [
        "##Se procede a extraer el año y mes del dataframe\n",
        "train_mensual['year'] = train_mensual['date_block_num'].apply(lambda x: ((x//12) + 2013))\n",
        "train_mensual['month'] = train_mensual['date_block_num'].apply(lambda x: (x % 12))"
      ]
    },
    {
      "cell_type": "markdown",
      "id": "be277541-edaa-498c-ac13-82f1e07f1bd3",
      "metadata": {
        "id": "be277541-edaa-498c-ac13-82f1e07f1bd3"
      },
      "source": [
        "### PASO 4: Gráficas Relevantes"
      ]
    },
    {
      "cell_type": "code",
      "execution_count": 21,
      "id": "6e1aa271-defd-410e-87e1-bcad6bffff62",
      "metadata": {
        "id": "6e1aa271-defd-410e-87e1-bcad6bffff62"
      },
      "outputs": [],
      "source": [
        "gp_mes_mean = train_mensual.groupby(['month'], as_index=False)['item_cnt'].mean()\n",
        "gp_mes_sum = train_mensual.groupby(['month'], as_index=False)['item_cnt'].sum()\n",
        "gp_categoria_mean = train_mensual.groupby(['item_category_id'], as_index=False)['item_cnt'].mean()\n",
        "gp_categoria_sum = train_mensual.groupby(['item_category_id'], as_index=False)['item_cnt'].sum()\n",
        "gp_tienda_mean = train_mensual.groupby(['shop_id'], as_index=False)['item_cnt'].mean()\n",
        "gp_tienda_sum = train_mensual.groupby(['shop_id'], as_index=False)['item_cnt'].sum()"
      ]
    },
    {
      "cell_type": "code",
      "execution_count": 22,
      "id": "df24e672-0e6e-4572-a3d9-76c0aeb44f09",
      "metadata": {
        "colab": {
          "base_uri": "https://localhost:8080/",
          "height": 574
        },
        "id": "df24e672-0e6e-4572-a3d9-76c0aeb44f09",
        "outputId": "3e5636bc-c894-4c79-de4f-9ecb4cedce9c"
      },
      "outputs": [
        {
          "output_type": "display_data",
          "data": {
            "image/png": "[encoded data removed]",
            "text/plain": [
              "<Figure size 1584x720 with 2 Axes>"
            ]
          },
          "metadata": {}
        }
      ],
      "source": [
        "f, axes = plt.subplots(2, 1, figsize=(22, 10), sharex=True)\n",
        "sns.lineplot(x=\"month\", y=\"item_cnt\", data=gp_mes_mean, ax=axes[0]).set_title(\"Media Mensual\")\n",
        "sns.lineplot(x=\"month\", y=\"item_cnt\", data=gp_mes_sum, ax=axes[1]).set_title(\"Total Mensual\")\n",
        "plt.show()\n",
        "\n",
        "#Al final del periodo seleccionado se aumentan las ventas por encima de la media."
      ]
    },
    {
      "cell_type": "code",
      "execution_count": 23,
      "id": "547d2bc0-22f4-4abc-a586-85e6e8716ae1",
      "metadata": {
        "colab": {
          "base_uri": "https://localhost:8080/",
          "height": 573
        },
        "id": "547d2bc0-22f4-4abc-a586-85e6e8716ae1",
        "outputId": "a734d3e0-22c0-419a-cac3-b10afa4215e8"
      },
      "outputs": [
        {
          "output_type": "display_data",
          "data": {
            "image/png": "[encoded data removed]",
            "text/plain": [
              "<Figure size 1584x720 with 2 Axes>"
            ]
          },
          "metadata": {}
        }
      ],
      "source": [
        "f, axes = plt.subplots(2, 1, figsize=(22, 10), sharex=True)\n",
        "sns.barplot(x=\"item_category_id\", y=\"item_cnt\", data=gp_categoria_mean, ax=axes[0], palette=\"rocket\").set_title(\"Media Mensual\")\n",
        "sns.barplot(x=\"item_category_id\", y=\"item_cnt\", data=gp_categoria_sum, ax=axes[1], palette=\"rocket\").set_title(\"Total Mensual\")\n",
        "plt.show()\n",
        "##Aparentemente solo algunas categorías presentan ventas superiores."
      ]
    },
    {
      "cell_type": "code",
      "execution_count": 24,
      "id": "9a6c0e88-d4fa-4b78-a4f1-5bab57848f69",
      "metadata": {
        "colab": {
          "base_uri": "https://localhost:8080/",
          "height": 574
        },
        "id": "9a6c0e88-d4fa-4b78-a4f1-5bab57848f69",
        "outputId": "6509e133-3231-4516-aee8-870198d39249"
      },
      "outputs": [
        {
          "output_type": "display_data",
          "data": {
            "image/png": "[encoded data removed]",
            "text/plain": [
              "<Figure size 1584x720 with 2 Axes>"
            ]
          },
          "metadata": {}
        }
      ],
      "source": [
        "f, axes = plt.subplots(2, 1, figsize=(22, 10), sharex=True)\n",
        "sns.barplot(x=\"shop_id\", y=\"item_cnt\", data=gp_tienda_mean, ax=axes[0], palette=\"rocket\").set_title(\"Monthly mean\")\n",
        "sns.barplot(x=\"shop_id\", y=\"item_cnt\", data=gp_tienda_sum, ax=axes[1], palette=\"rocket\").set_title(\"Monthly sum\")\n",
        "plt.show()\n",
        "##Se evidencian alrededor de 3 tiendas que superan la cantidad vendida durante el periodo 2013 al 2015."
      ]
    },
    {
      "cell_type": "code",
      "execution_count": 25,
      "id": "9e5bc45b-e7dc-4baa-96b9-f5b0fdbc1af2",
      "metadata": {
        "colab": {
          "base_uri": "https://localhost:8080/",
          "height": 592
        },
        "id": "9e5bc45b-e7dc-4baa-96b9-f5b0fdbc1af2",
        "outputId": "ea27b1e0-97b9-43d0-c54c-ec9ac229ca1e"
      },
      "outputs": [
        {
          "output_type": "display_data",
          "data": {
            "image/png": "[encoded data removed]",
            "text/plain": [
              "<Figure size 576x576 with 3 Axes>"
            ]
          },
          "metadata": {}
        }
      ],
      "source": [
        "##Verificando Outliers\n",
        "sns.jointplot(x=\"item_cnt\", y=\"item_price\", data=train_mensual, height=8)\n",
        "plt.show()"
      ]
    },
    {
      "cell_type": "code",
      "execution_count": 26,
      "id": "24a6bcf7-f487-4eb4-a37c-846768675282",
      "metadata": {
        "colab": {
          "base_uri": "https://localhost:8080/",
          "height": 484
        },
        "id": "24a6bcf7-f487-4eb4-a37c-846768675282",
        "outputId": "86ceb2f5-024b-46dd-9b92-adef67073172"
      },
      "outputs": [
        {
          "output_type": "display_data",
          "data": {
            "image/png": "[encoded data removed]",
            "text/plain": [
              "<Figure size 1584x576 with 1 Axes>"
            ]
          },
          "metadata": {}
        }
      ],
      "source": [
        "plt.subplots(figsize=(22, 8))\n",
        "sns.boxplot(train_mensual['item_cnt'])\n",
        "plt.show()\n",
        "\n",
        "##Tomando el límite anterior, se procede a reducir la data por medio \n",
        "## de una relación item_cnt>=0 & item_cnt <=20 & item_price < 400000 remueve outliers si cumple"
      ]
    },
    {
      "cell_type": "code",
      "execution_count": 27,
      "id": "3d7f10f7-ba50-448b-9745-557d411bfd2e",
      "metadata": {
        "id": "3d7f10f7-ba50-448b-9745-557d411bfd2e"
      },
      "outputs": [],
      "source": [
        "train_mensual = train_mensual.query('item_cnt >= 0 and item_cnt <= 20 and item_price < 400000')"
      ]
    },
    {
      "cell_type": "code",
      "execution_count": 28,
      "id": "30157cf2-9c04-47bc-9ea0-c9b0e62a8eba",
      "metadata": {
        "colab": {
          "base_uri": "https://localhost:8080/",
          "height": 484
        },
        "id": "30157cf2-9c04-47bc-9ea0-c9b0e62a8eba",
        "outputId": "ecfc70f9-1528-46b3-815c-7fc27ffca8de"
      },
      "outputs": [
        {
          "output_type": "display_data",
          "data": {
            "image/png": "[encoded data removed]",
            "text/plain": [
              "<Figure size 1584x576 with 1 Axes>"
            ]
          },
          "metadata": {}
        }
      ],
      "source": [
        "plt.subplots(figsize=(22, 8))\n",
        "sns.boxplot(train_mensual['item_cnt'])\n",
        "plt.show()\n",
        "\n",
        "##Se evidencia la reducción de ruido en los datos."
      ]
    },
    {
      "cell_type": "markdown",
      "id": "5b14a98d-0a49-4217-991f-438d550e4fe5",
      "metadata": {
        "id": "5b14a98d-0a49-4217-991f-438d550e4fe5"
      },
      "source": [
        "### PASO 5: Ingeniería de Variables"
      ]
    },
    {
      "cell_type": "code",
      "execution_count": 29,
      "id": "00d3ec78-3630-4bc1-8834-c9808974444c",
      "metadata": {
        "id": "00d3ec78-3630-4bc1-8834-c9808974444c"
      },
      "outputs": [],
      "source": [
        "##Paso 5.1 Crear la etiqueta donde se va a guardar el conteo mes a mes\n",
        "train_mensual['item_cnt_month'] = train_mensual.sort_values('date_block_num').groupby(['shop_id', 'item_id'])['item_cnt'].shift(-1)\n",
        "\n",
        "## Paso 5.2 Unidad de precio por cada elemento (Valor unitario) es la división entre precio del item y el conteo del mismo\n",
        "train_mensual['item_price_unit'] = train_mensual['item_price'] // train_mensual['item_cnt']\n",
        "##Si hay datos NAN se rellena con cero.\n",
        "train_mensual['item_price_unit'].fillna(0, inplace=True)\n",
        "\n",
        "## Paso 5.3 Agrupaciones por fecha y el id respetando los valores minimos y maximos del precio es decir en un rango\n",
        "gp_item_precio = train_mensual.sort_values('date_block_num').groupby(['item_id'], as_index=False).agg({'item_price':[np.min, np.max]})\n",
        "\n",
        "## Paso 5.4 Damos nombres a las columnas\n",
        "gp_item_precio.columns = ['item_id', 'hist_min_item_price', 'hist_max_item_price']\n",
        "\n",
        "## Paso 5.5 Unimos al data frame original con un merge por item_id usando un leftjoin es decir\n",
        "##todo va para train_mensual\n",
        "train_mensual = pd.merge(train_mensual, gp_item_precio, on='item_id', how='left')\n",
        "\n",
        "##Paso 5.6 el incremento del precio se da por el historial del movimiento del precio menos el valor actual.\n",
        "train_mensual['price_increase'] = train_mensual['item_price'] - train_mensual['hist_min_item_price']\n",
        "train_mensual['price_decrease'] = train_mensual['hist_max_item_price'] - train_mensual['item_price']\n",
        "\n",
        "##Paso 5.7 por medio de funciones lambda se crea la ventana de observacion de tres periodos\n",
        "f_min = lambda x: x.rolling(window=3, min_periods=1).min()\n",
        "f_max = lambda x: x.rolling(window=3, min_periods=1).max()\n",
        "f_mean = lambda x: x.rolling(window=3, min_periods=1).mean()\n",
        "f_std = lambda x: x.rolling(window=3, min_periods=1).std()\n",
        "\n",
        "function_list = [f_min, f_max, f_mean, f_std]\n",
        "function_name = ['min', 'max', 'mean', 'std']\n",
        "\n"
      ]
    },
    {
      "cell_type": "code",
      "execution_count": 30,
      "id": "38eca1cf-8fa3-4244-abba-bda7a59c8b51",
      "metadata": {
        "colab": {
          "base_uri": "https://localhost:8080/",
          "height": 0
        },
        "id": "38eca1cf-8fa3-4244-abba-bda7a59c8b51",
        "outputId": "4d938143-5ed4-4085-afc3-5e676aa3914e"
      },
      "outputs": [
        {
          "output_type": "stream",
          "name": "stdout",
          "text": [
            "<class 'pandas.core.frame.DataFrame'>\n",
            "Int64Index: 6728118 entries, 0 to 6728117\n",
            "Data columns (total 17 columns):\n",
            " #   Column               Dtype  \n",
            "---  ------               -----  \n",
            " 0   date_block_num       int64  \n",
            " 1   shop_id              int64  \n",
            " 2   item_id              int64  \n",
            " 3   item_category_id     float64\n",
            " 4   item_price           float32\n",
            " 5   mean_item_price      float32\n",
            " 6   item_cnt             float64\n",
            " 7   mean_item_cnt        float64\n",
            " 8   transactions         float64\n",
            " 9   year                 int64  \n",
            " 10  month                int64  \n",
            " 11  item_cnt_month       float64\n",
            " 12  item_price_unit      float64\n",
            " 13  hist_min_item_price  float32\n",
            " 14  hist_max_item_price  float32\n",
            " 15  price_increase       float32\n",
            " 16  price_decrease       float32\n",
            "dtypes: float32(6), float64(6), int64(5)\n",
            "memory usage: 770.0 MB\n"
          ]
        }
      ],
      "source": [
        "train_mensual.info()"
      ]
    },
    {
      "cell_type": "code",
      "execution_count": 31,
      "id": "276e589f-28b6-4467-a8ce-a2534951f40b",
      "metadata": {
        "id": "276e589f-28b6-4467-a8ce-a2534951f40b"
      },
      "outputs": [],
      "source": [
        "for i in range(len(function_list)):\n",
        "    train_mensual[('item_cnt_%s' % function_name[i])] = train_mensual.sort_values('date_block_num').groupby(['shop_id', 'item_category_id', 'item_id'])['item_cnt'].apply(function_list[i])\n",
        "\n",
        "train_mensual['item_cnt_std'].fillna(0, inplace=True)"
      ]
    },
    {
      "cell_type": "code",
      "execution_count": 32,
      "id": "74f29b80-e6f5-414a-a949-348e046b46b1",
      "metadata": {
        "id": "74f29b80-e6f5-414a-a949-348e046b46b1"
      },
      "outputs": [],
      "source": [
        "lag_list = [1, 2, 3]\n",
        "\n",
        "for lag in lag_list:\n",
        "    ft_name = ('item_cnt_shifted%s' % lag)\n",
        "    train_mensual[ft_name] = train_mensual.sort_values('date_block_num').groupby(['shop_id', 'item_category_id',\n",
        "                                                                                  'item_id'])['item_cnt'].shift(lag)\n",
        "    \n",
        "    train_mensual[ft_name].fillna(0, inplace=True)\n",
        "    \n",
        "train_mensual['item_trend'] = train_mensual['item_cnt']"
      ]
    },
    {
      "cell_type": "code",
      "execution_count": 33,
      "id": "b3de86e7-011a-4e75-a305-eac584e4a178",
      "metadata": {
        "id": "b3de86e7-011a-4e75-a305-eac584e4a178"
      },
      "outputs": [],
      "source": [
        "for lag in lag_list:\n",
        "    ft_name = ('item_cnt_shifted%s' % lag)\n",
        "    train_mensual['item_trend'] -= train_mensual[ft_name]\n",
        "\n",
        "train_mensual['item_trend'] /= len(lag_list) + 1"
      ]
    },
    {
      "cell_type": "code",
      "execution_count": 36,
      "id": "a8a0a443-7233-4f73-b4b9-245cec3b588a",
      "metadata": {
        "colab": {
          "base_uri": "https://localhost:8080/",
          "height": 0
        },
        "id": "a8a0a443-7233-4f73-b4b9-245cec3b588a",
        "outputId": "09848147-1093-4d90-b377-826f95693a25"
      },
      "outputs": [
        {
          "output_type": "stream",
          "name": "stdout",
          "text": [
            "Datos de Entrenamiento: 4946785\n",
            "Datos de Validación: 989412\n",
            "Datos de Testeo: 197879\n"
          ]
        }
      ],
      "source": [
        "train_set = train_mensual.query('date_block_num >= 3 and date_block_num < 28').copy()\n",
        "validation_set = train_mensual.query('date_block_num >= 28 and date_block_num < 33').copy()\n",
        "test_set = train_mensual.query('date_block_num == 33').copy()\n",
        "\n",
        "train_set.dropna(subset=['item_cnt_month'], inplace=True)\n",
        "validation_set.dropna(subset=['item_cnt_month'], inplace=True)\n",
        "\n",
        "train_set.dropna(inplace=True)\n",
        "validation_set.dropna(inplace=True)\n",
        "\n",
        "print('Datos de Entrenamiento:', train_set.shape[0])\n",
        "print('Datos de Validación:', validation_set.shape[0])\n",
        "print('Datos de Testeo:', test_set.shape[0])\n"
      ]
    },
    {
      "cell_type": "code",
      "execution_count": 37,
      "id": "812f388e-c008-4bb9-9d79-83c2ada656a9",
      "metadata": {
        "id": "812f388e-c008-4bb9-9d79-83c2ada656a9"
      },
      "outputs": [],
      "source": [
        "# Agrupamiento de datos por media\n",
        "gp_shop_mean = train_set.groupby(['shop_id']).agg({'item_cnt_month': ['mean']})\n",
        "gp_shop_mean.columns = ['shop_mean']\n",
        "gp_shop_mean.reset_index(inplace=True)\n",
        "\n",
        "gp_item_mean = train_set.groupby(['item_id']).agg({'item_cnt_month': ['mean']})\n",
        "gp_item_mean.columns = ['item_mean']\n",
        "gp_item_mean.reset_index(inplace=True)\n",
        "\n",
        "gp_shop_item_mean = train_set.groupby(['shop_id', 'item_id']).agg({'item_cnt_month': ['mean']})\n",
        "gp_shop_item_mean.columns = ['shop_item_mean']\n",
        "gp_shop_item_mean.reset_index(inplace=True)\n",
        "\n",
        "gp_year_mean = train_set.groupby(['year']).agg({'item_cnt_month': ['mean']})\n",
        "gp_year_mean.columns = ['year_mean']\n",
        "gp_year_mean.reset_index(inplace=True)\n",
        "\n",
        "gp_month_mean = train_set.groupby(['month']).agg({'item_cnt_month': ['mean']})\n",
        "gp_month_mean.columns = ['month_mean']\n",
        "gp_month_mean.reset_index(inplace=True)\n",
        "\n",
        "\n",
        "train_set = pd.merge(train_set, gp_shop_mean, on=['shop_id'], how='left')\n",
        "train_set = pd.merge(train_set, gp_item_mean, on=['item_id'], how='left')\n",
        "train_set = pd.merge(train_set, gp_shop_item_mean, on=['shop_id', 'item_id'], how='left')\n",
        "train_set = pd.merge(train_set, gp_year_mean, on=['year'], how='left')\n",
        "train_set = pd.merge(train_set, gp_month_mean, on=['month'], how='left')\n",
        "\n",
        "validation_set = pd.merge(validation_set, gp_shop_mean, on=['shop_id'], how='left')\n",
        "validation_set = pd.merge(validation_set, gp_item_mean, on=['item_id'], how='left')\n",
        "validation_set = pd.merge(validation_set, gp_shop_item_mean, on=['shop_id', 'item_id'], how='left')\n",
        "validation_set = pd.merge(validation_set, gp_year_mean, on=['year'], how='left')\n",
        "validation_set = pd.merge(validation_set, gp_month_mean, on=['month'], how='left')"
      ]
    },
    {
      "cell_type": "markdown",
      "source": [
        "**PASO 6: Train, test & Validation**"
      ],
      "metadata": {
        "id": "9tM9Lf2HfELr"
      },
      "id": "9tM9Lf2HfELr"
    },
    {
      "cell_type": "code",
      "execution_count": 38,
      "id": "1cbbf5b5-72ad-482a-9962-769eb6ddf50c",
      "metadata": {
        "id": "1cbbf5b5-72ad-482a-9962-769eb6ddf50c"
      },
      "outputs": [],
      "source": [
        "# Entrenamiento y validación\n",
        "X_train = train_set.drop(['item_cnt_month', 'date_block_num'], axis=1)\n",
        "Y_train = train_set['item_cnt_month'].astype(int)\n",
        "X_validation = validation_set.drop(['item_cnt_month', 'date_block_num'], axis=1)\n",
        "Y_validation = validation_set['item_cnt_month'].astype(int)"
      ]
    },
    {
      "cell_type": "code",
      "execution_count": 40,
      "id": "bd6b858c-e23b-42ed-8ba4-9b002c72ff62",
      "metadata": {
        "id": "bd6b858c-e23b-42ed-8ba4-9b002c72ff62"
      },
      "outputs": [],
      "source": [
        "int_features = ['shop_id', 'item_id', 'year', 'month']\n",
        "\n",
        "X_train[int_features] = X_train[int_features].astype('int32')\n",
        "X_validation[int_features] = X_validation[int_features].astype('int32')\n",
        "\n",
        "latest_records = pd.concat([train_set, validation_set]).drop_duplicates(subset=['shop_id', 'item_id'], keep='last')\n",
        "X_test = pd.merge(test, latest_records, on=['shop_id', 'item_id'], how='left', suffixes=['', '_'])\n",
        "X_test['year'] = 2015\n",
        "X_test['month'] = 9\n",
        "X_test.drop('item_cnt_month', axis=1, inplace=True)\n",
        "X_test[int_features] = X_test[int_features].astype('int32')\n",
        "X_test = X_test[X_train.columns]"
      ]
    },
    {
      "cell_type": "code",
      "execution_count": 41,
      "id": "4bdceebe-96b2-4161-b1dc-e9c2fae8d4b8",
      "metadata": {
        "id": "4bdceebe-96b2-4161-b1dc-e9c2fae8d4b8"
      },
      "outputs": [],
      "source": [
        "sets = [X_train, X_validation, X_test]\n",
        "\n",
        "for dataset in sets:\n",
        "    for shop_id in dataset['shop_id'].unique():\n",
        "        for column in dataset.columns:\n",
        "            shop_median = dataset[(dataset['shop_id'] == shop_id)][column].median()\n",
        "            dataset.loc[(dataset[column].isnull()) & (dataset['shop_id'] == shop_id), column] = shop_median\n",
        "            \n",
        "# Relleno de datos nulos con la media\n",
        "X_test.fillna(X_test.mean(), inplace=True)"
      ]
    },
    {
      "cell_type": "code",
      "execution_count": 42,
      "id": "124080b0-015a-42d2-84f9-d6b41b83c175",
      "metadata": {
        "id": "124080b0-015a-42d2-84f9-d6b41b83c175"
      },
      "outputs": [],
      "source": [
        "# Eliminación de valores innecesarios\n",
        "X_train.drop(['item_category_id'], axis=1, inplace=True)\n",
        "X_validation.drop(['item_category_id'], axis=1, inplace=True)\n",
        "X_test.drop(['item_category_id'], axis=1, inplace=True)"
      ]
    },
    {
      "cell_type": "code",
      "execution_count": 43,
      "id": "5165bcd7-0516-4151-b6fd-44e6bb1854bb",
      "metadata": {
        "id": "5165bcd7-0516-4151-b6fd-44e6bb1854bb"
      },
      "outputs": [],
      "source": [
        "# Variables seleccionadas random Forest\n",
        "rf_features = ['shop_id', 'item_id', 'item_cnt', 'transactions', 'year',\n",
        "               'item_cnt_mean', 'item_cnt_std', 'item_cnt_shifted1', \n",
        "               'shop_mean', 'item_mean', 'item_trend', 'mean_item_cnt']\n",
        "rf_train = X_train[rf_features]\n",
        "rf_val = X_validation[rf_features]\n",
        "rf_test = X_test[rf_features]"
      ]
    },
    {
      "cell_type": "code",
      "execution_count": 44,
      "id": "888c3cc7-d1ec-4a8e-9f65-2e4a3bf7c592",
      "metadata": {
        "colab": {
          "base_uri": "https://localhost:8080/",
          "height": 0
        },
        "id": "888c3cc7-d1ec-4a8e-9f65-2e4a3bf7c592",
        "outputId": "9babc0d0-4d65-47a5-c2a0-ba95d126aea5"
      },
      "outputs": [
        {
          "output_type": "execute_result",
          "data": {
            "text/plain": [
              "RandomForestRegressor(max_depth=7, n_estimators=50, n_jobs=-1, random_state=0)"
            ]
          },
          "metadata": {},
          "execution_count": 44
        }
      ],
      "source": [
        "rf_model = RandomForestRegressor(n_estimators=50, max_depth=7, random_state=0, n_jobs=-1)\n",
        "rf_model.fit(rf_train, Y_train)"
      ]
    },
    {
      "cell_type": "code",
      "execution_count": 45,
      "id": "cbb97c99-a83d-4f6e-bef4-0169b245662c",
      "metadata": {
        "id": "cbb97c99-a83d-4f6e-bef4-0169b245662c"
      },
      "outputs": [],
      "source": [
        "rf_train_pred = rf_model.predict(rf_train)\n",
        "rf_val_pred = rf_model.predict(rf_val)\n",
        "rf_test_pred = rf_model.predict(rf_test)"
      ]
    },
    {
      "cell_type": "markdown",
      "source": [
        "**PASO 6: Métricas**"
      ],
      "metadata": {
        "id": "MTODMcw0fPHA"
      },
      "id": "MTODMcw0fPHA"
    },
    {
      "cell_type": "code",
      "execution_count": 54,
      "id": "031d4949-a256-43c7-abfd-269db1b67e61",
      "metadata": {
        "colab": {
          "base_uri": "https://localhost:8080/",
          "height": 0
        },
        "id": "031d4949-a256-43c7-abfd-269db1b67e61",
        "outputId": "8c17f4d4-9303-4516-b365-c3e23a319fe4"
      },
      "outputs": [
        {
          "output_type": "stream",
          "name": "stdout",
          "text": [
            "Train rmse: 0.6985868322226099\n",
            "Validacion rmse: 0.776123635046122\n",
            "Eficiencia del modelo: 0.43382474276220717\n"
          ]
        }
      ],
      "source": [
        "print('Train rmse:', np.sqrt(mean_squared_error(Y_train, rf_train_pred)))\n",
        "print('Validacion rmse:', np.sqrt(mean_squared_error(Y_validation, rf_val_pred)))\n",
        "print('Eficiencia del modelo:', r2_score(Y_train, rf_train_pred))\n",
        "\n",
        "##Con datos de entrenamiento vemos una precisión media de ajuste del modelo random forest\n",
        "\n",
        "##Con datos de validación se aleja un poco más de la precisión requerida por ende se justifica el\n",
        "##43% de eficiencia del modelo. Se escogen dichas métricas debido a que son mas confiables y se\n",
        "##expresan en las mismas unidades de la variable a predecir."
      ]
    },
    {
      "cell_type": "code",
      "source": [
        ""
      ],
      "metadata": {
        "id": "4tTLNM4qfh27"
      },
      "id": "4tTLNM4qfh27",
      "execution_count": null,
      "outputs": []
    }
  ],
  "metadata": {
    "kernelspec": {
      "display_name": "Python 3 (ipykernel)",
      "language": "python",
      "name": "python3"
    },
    "language_info": {
      "codemirror_mode": {
        "name": "ipython",
        "version": 3
      },
      "file_extension": ".py",
      "mimetype": "text/x-python",
      "name": "python",
      "nbconvert_exporter": "python",
      "pygments_lexer": "ipython3",
      "version": "3.9.7"
    },
    "colab": {
      "name": "AnalisisSales.ipynb",
      "provenance": [],
      "collapsed_sections": []
    },
    "accelerator": "GPU"
  },
  "nbformat": 4,
  "nbformat_minor": 5
}