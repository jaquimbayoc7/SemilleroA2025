{
  "nbformat": 4,
  "nbformat_minor": 0,
  "metadata": {
    "colab": {
      "provenance": []
    },
    "kernelspec": {
      "name": "python3",
      "display_name": "Python 3"
    },
    "language_info": {
      "name": "python"
    }
  },
  "cells": [
    {
      "cell_type": "markdown",
      "source": [
        "## ***Introducción a Python*** ⛪\n",
        "\n"
      ],
      "metadata": {
        "id": "RJHJvaKy3LNL"
      }
    },
    {
      "cell_type": "markdown",
      "source": [
        "[Página de Markdown](https://www.markdownguide.org/cheat-sheet/)"
      ],
      "metadata": {
        "id": "3Q4cI8tH7Ba1"
      }
    },
    {
      "cell_type": "markdown",
      "source": [
        "### **1. Comentarios en línea y en bloque** ⚡"
      ],
      "metadata": {
        "id": "JTJL8bl76ZY-"
      }
    },
    {
      "cell_type": "code",
      "source": [
        "\"\"\"\n",
        "Hola esto es un comentario en bloque\n",
        "\"\"\"\n",
        "# comentario en línea\n",
        "print(2+2)\n",
        "print(3/5)\n",
        "print(2**5)\n",
        "print(2*8)\n",
        "print(10-9)\n",
        "\n",
        "print(((2**8)+(3*7)/10))"
      ],
      "metadata": {
        "colab": {
          "base_uri": "https://localhost:8080/"
        },
        "id": "AycW0gRQ7eid",
        "outputId": "a8b1aa1a-ba76-4e99-bbbf-2d8c3fa1028a"
      },
      "execution_count": 7,
      "outputs": [
        {
          "output_type": "stream",
          "name": "stdout",
          "text": [
            "4\n",
            "0.6\n",
            "32\n",
            "16\n",
            "1\n",
            "258.1\n"
          ]
        }
      ]
    },
    {
      "cell_type": "code",
      "source": [
        "### Tipos de datos en Python - booleanos\n",
        "True\n",
        "False\n"
      ],
      "metadata": {
        "colab": {
          "base_uri": "https://localhost:8080/"
        },
        "id": "pGI4KlMl70V7",
        "outputId": "a34484b5-6c1b-41cd-cc30-3f124cfcaab4"
      },
      "execution_count": 8,
      "outputs": [
        {
          "output_type": "execute_result",
          "data": {
            "text/plain": [
              "False"
            ]
          },
          "metadata": {},
          "execution_count": 8
        }
      ]
    },
    {
      "cell_type": "code",
      "source": [
        "###Tipo de datos entero,float, booleanos, str(texto o caracter)\n",
        "print(type('h'))\n",
        "print(type('hola'))\n",
        "print(type(2))\n",
        "print(type(2.3))\n",
        "print(type(True))\n",
        "print(type(False))"
      ],
      "metadata": {
        "colab": {
          "base_uri": "https://localhost:8080/"
        },
        "id": "Oz8EfL7z828s",
        "outputId": "45eb2802-98af-4e8a-f5cf-543b71360ec7"
      },
      "execution_count": 15,
      "outputs": [
        {
          "output_type": "stream",
          "name": "stdout",
          "text": [
            "<class 'str'>\n",
            "<class 'str'>\n",
            "<class 'int'>\n",
            "<class 'float'>\n",
            "<class 'bool'>\n",
            "<class 'bool'>\n"
          ]
        }
      ]
    },
    {
      "cell_type": "markdown",
      "source": [
        "### **2. Variables** ⚡"
      ],
      "metadata": {
        "id": "864bLEtZBwV2"
      }
    },
    {
      "cell_type": "code",
      "source": [
        "### Construcción de variables en python\n",
        "a=12\n",
        "b=2.3\n",
        "c='hola'\n",
        "d=True\n",
        "print(a)\n",
        "print(b)\n",
        "print(c)\n",
        "print(d)"
      ],
      "metadata": {
        "colab": {
          "base_uri": "https://localhost:8080/"
        },
        "id": "IvVc9P5O9xcM",
        "outputId": "cb8e2977-28ec-405b-c653-a2c3a736e275"
      },
      "execution_count": 16,
      "outputs": [
        {
          "output_type": "stream",
          "name": "stdout",
          "text": [
            "12\n",
            "2.3\n",
            "hola\n",
            "True\n"
          ]
        }
      ]
    },
    {
      "cell_type": "code",
      "source": [
        "###Formas de impresión de cadenas de texto y numeros en python\n",
        "print(\"Este es el valor: \",a)\n",
        "##interpolación de string\n",
        "print(f\"Este es el valor:{a} y este es el valor:{b}\")\n",
        "\n",
        "print(\"Este es el valor: {} y este es el valor {}\".format(a, b))\n",
        "\n",
        "print(\"Este es el valor: %d y este es el valor: %.2f\" %(a, b))\n",
        "\n",
        "print(\"Este es el valor: \" + str(a) + \" y este es el valor: \" + str(b))"
      ],
      "metadata": {
        "colab": {
          "base_uri": "https://localhost:8080/"
        },
        "id": "b0bhc3Qf-a3b",
        "outputId": "b82c4e7e-5b97-4c66-b00b-681472b544a2"
      },
      "execution_count": 28,
      "outputs": [
        {
          "output_type": "stream",
          "name": "stdout",
          "text": [
            "Este es el valor:  12\n",
            "Este es el valor:12 y este es el valor:2.3\n",
            "Este es el valor: 12 y este es el valor 2.3\n",
            "Este es el valor: 12 y este es el valor: 2.30\n",
            "Este es el valor: 12 y este es el valor: 2.3\n"
          ]
        }
      ]
    },
    {
      "cell_type": "markdown",
      "source": [
        "### **3. Operadores relacionales y lógicos** ⚡"
      ],
      "metadata": {
        "id": "bpgJlG3RB1DS"
      }
    },
    {
      "cell_type": "code",
      "source": [
        "## Operadores realacionales y/o lógicos\n",
        "print(a==b)\n",
        "print(a!=b)\n",
        "print(a>b)\n",
        "print(a<b)\n",
        "print(a>=b)\n",
        "print(a<=b)\n",
        "\n",
        "#and , or , ! not\n",
        "print(a>b and a<b)\n",
        "print(a>b or a<b)\n",
        "print(not a>b)\n"
      ],
      "metadata": {
        "colab": {
          "base_uri": "https://localhost:8080/"
        },
        "id": "7Qs_1aXJAsrh",
        "outputId": "5f9315f1-ba50-4da6-adcc-73c6b5bcda73"
      },
      "execution_count": 30,
      "outputs": [
        {
          "output_type": "stream",
          "name": "stdout",
          "text": [
            "False\n",
            "True\n",
            "True\n",
            "False\n",
            "True\n",
            "False\n",
            "False\n",
            "True\n",
            "False\n"
          ]
        }
      ]
    },
    {
      "cell_type": "markdown",
      "source": [
        "### **4. Condicionales** ⚡"
      ],
      "metadata": {
        "id": "GbUVntByB8rH"
      }
    },
    {
      "cell_type": "code",
      "source": [
        "##Condicional simple - 2 preposiciones para cumplir\n",
        "\n",
        "edad = int(input(\"Ingrese su edad: \"))\n",
        "salario = float(input(\"Ingrese su salario: \"))\n",
        "if edad >= 18 and salario==120000000:\n",
        "  print(\"Eres mayor de edad y tienes salario\")\n",
        "else:\n",
        "  print(\"Eres menor de edad, y tu salario es bajo\")\n"
      ],
      "metadata": {
        "colab": {
          "base_uri": "https://localhost:8080/"
        },
        "id": "40IhcD3C8-Zx",
        "outputId": "0fdffc0b-7e96-4d69-b187-c5845801a38c"
      },
      "execution_count": 34,
      "outputs": [
        {
          "output_type": "stream",
          "name": "stdout",
          "text": [
            "Ingrese su edad: 39\n",
            "Ingrese su salario: 4444\n",
            "Eres menor de edad, y tu salario es bajo\n"
          ]
        }
      ]
    },
    {
      "cell_type": "code",
      "source": [
        "##Condición anidada\n",
        "edad = int(input(\"Ingrese su edad: \"))\n",
        "\n",
        "if edad >= 18:\n",
        "  salario = float(input(\"Ingrese su salario: \"))\n",
        "  if salario==120000000:\n",
        "    print(\"Eres mayor de edad y tienes salario\")\n",
        "  else:\n",
        "    print(\"Eres mayor de edad, pero tu salario es bajo\")\n",
        "else:\n",
        "  print(\"eres menor de edad\")"
      ],
      "metadata": {
        "colab": {
          "base_uri": "https://localhost:8080/"
        },
        "id": "_JJSBmlwDfvo",
        "outputId": "dd409665-bef7-4c18-e920-e815da95b71e"
      },
      "execution_count": 37,
      "outputs": [
        {
          "output_type": "stream",
          "name": "stdout",
          "text": [
            "Ingrese su edad: 19\n",
            "Ingrese su salario: 120000000\n",
            "Eres mayor de edad y tienes salario\n"
          ]
        }
      ]
    },
    {
      "cell_type": "code",
      "source": [
        "### Condición anidada elif\n",
        "edad = int(input(\"Ingrese su edad: \"))\n",
        "salario = float(input(\"Ingrese su salario: \"))\n",
        "\n",
        "if edad >= 18 and edad<=25 and salario==120000000:\n",
        "  print(\"Eres mayor de edad y tienes salario\")\n",
        "elif edad >= 18 and edad<=25 and salario!=120000000:\n",
        "  print(\"Eres mayor de edad, pero tu salario es bajo\")\n",
        "else:\n",
        "  print(\"eres menor de edad\")\n"
      ],
      "metadata": {
        "colab": {
          "base_uri": "https://localhost:8080/"
        },
        "id": "7Jqfw8-vEuJ0",
        "outputId": "a82c3416-fc07-4dd2-adf5-849ea5776c0f"
      },
      "execution_count": 39,
      "outputs": [
        {
          "output_type": "stream",
          "name": "stdout",
          "text": [
            "Ingrese su edad: 24\n",
            "Ingrese su salario: 120000000\n",
            "Eres mayor de edad y tienes salario\n"
          ]
        }
      ]
    },
    {
      "cell_type": "markdown",
      "source": [
        "### **5. Ciclos** ⚡"
      ],
      "metadata": {
        "id": "IKlRbnqwF5JQ"
      }
    },
    {
      "cell_type": "code",
      "source": [
        "##ciclo for\n",
        "for i in range(11):\n",
        "  print(i)"
      ],
      "metadata": {
        "colab": {
          "base_uri": "https://localhost:8080/"
        },
        "id": "U4qhyizGF7kv",
        "outputId": "868a6df6-eab6-45f4-a3a5-4fca6f76dc27"
      },
      "execution_count": 42,
      "outputs": [
        {
          "output_type": "stream",
          "name": "stdout",
          "text": [
            "0\n",
            "1\n",
            "2\n",
            "3\n",
            "4\n",
            "5\n",
            "6\n",
            "7\n",
            "8\n",
            "9\n",
            "10\n"
          ]
        }
      ]
    },
    {
      "cell_type": "code",
      "source": [
        "n = int(input(\"Ingrese un número: \"))\n",
        "for i in range(1, n+1):\n",
        "  print(i)"
      ],
      "metadata": {
        "colab": {
          "base_uri": "https://localhost:8080/"
        },
        "id": "A6x5vGEXGeXU",
        "outputId": "48d3872d-e4cf-49bd-f010-6d3fa6512bf7"
      },
      "execution_count": 43,
      "outputs": [
        {
          "output_type": "stream",
          "name": "stdout",
          "text": [
            "Ingrese un número: 5\n",
            "1\n",
            "2\n",
            "3\n",
            "4\n",
            "5\n"
          ]
        }
      ]
    },
    {
      "cell_type": "code",
      "source": [
        "## ciclos con sumas\n",
        "n = int(input(\"Ingrese un número: \"))\n",
        "##acumulador\n",
        "suma = 0\n",
        "for i in range(1, n+1):\n",
        "  suma = suma + i\n",
        "print(suma)"
      ],
      "metadata": {
        "colab": {
          "base_uri": "https://localhost:8080/"
        },
        "id": "g59K_Y4oHAVP",
        "outputId": "48fbfd43-61c2-46b9-981a-c16c92c9ffe2"
      },
      "execution_count": 44,
      "outputs": [
        {
          "output_type": "stream",
          "name": "stdout",
          "text": [
            "Ingrese un número: 50\n",
            "1275\n"
          ]
        }
      ]
    },
    {
      "cell_type": "code",
      "source": [
        "##while para adiviniar un numero\n",
        "numero_secreto = 7\n",
        "numero_ingresado = int(input(\"Ingrese un número: \"))\n",
        "while numero_ingresado != numero_secreto:\n",
        "  numero_ingresado = int(input(\"Ingrese un número: \"))\n",
        "print(\"¡Felicidades, has adivinado el número secreto!\")"
      ],
      "metadata": {
        "colab": {
          "base_uri": "https://localhost:8080/"
        },
        "id": "tbGxHs0yHkn5",
        "outputId": "03acfe13-1813-4049-9435-0bb661e48374"
      },
      "execution_count": 45,
      "outputs": [
        {
          "output_type": "stream",
          "name": "stdout",
          "text": [
            "Ingrese un número: 10\n",
            "Ingrese un número: 5\n",
            "Ingrese un número: 7\n",
            "¡Felicidades, has adivinado el número secreto!\n"
          ]
        }
      ]
    }
  ]
}